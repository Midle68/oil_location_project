{
 "cells": [
  {
   "cell_type": "markdown",
   "metadata": {},
   "source": [
    "<a name='introduction'></a>\n",
    "# Проект \"Выбор локации для скважины\"\n",
    "\n",
    "Нужно решить, где бурить новую скважину для нефтяной компании.\n",
    "Предоставлены пробы нефти в трёх регионах: в каждом 10 000 месторождений, где измерили качество нефти и объём её запасов. Необходимо построить модель машинного обучения, которая поможет определить регион, где добыча принесёт наибольшую прибыль. Необходимо проанализировать возможную прибыль и риски техникой *Bootstrap.*\n",
    "\n",
    "Шаги для выбора локации:\n",
    "\n",
    "- В избранном регионе ищут месторождения, для каждого определяют значения признаков;\n",
    "- Строят модель и оценивают объём запасов;\n",
    "- Выбирают месторождения с самым высокими оценками значений. Количество месторождений зависит от бюджета компании и стоимости разработки одной скважины;\n",
    "- Прибыль равна суммарной прибыли отобранных месторождений.\n",
    "\n",
    "План проекта:\n",
    "1. [Импорт библиотек и подготовка файлов](#import)\n",
    "2. [Обучение и проверка модели](#model_training)\n",
    "3. [Подготовка к расчету прибыли](#profit_calculation)\n",
    "4. [Расчет прибыли и убытков](#profit_appraisal)\n",
    "5. [Общий Вывод](#conclusion)"
   ]
  },
  {
   "cell_type": "markdown",
   "metadata": {},
   "source": [
    "<a name='import'></a>\n",
    "## 1. Импорт библиотек и подготовка файлов"
   ]
  },
  {
   "cell_type": "code",
   "execution_count": 2,
   "metadata": {},
   "outputs": [],
   "source": [
    "# Импорт библиотек и функций\n",
    "import matplotlib as mpl\n",
    "import matplotlib.pyplot as plt\n",
    "import numpy as np\n",
    "from numpy.random import RandomState\n",
    "import pandas as pd\n",
    "from sklearn.linear_model import LinearRegression\n",
    "from sklearn.metrics import mean_squared_error\n",
    "from sklearn.model_selection import train_test_split\n",
    "\n",
    "# Константы\n",
    "BUDGET = 10**10\n",
    "PROFIT_PER_UNIT = 450000\n",
    "OILWELL_500 = 500\n",
    "OILWELL_200 = 200"
   ]
  },
  {
   "cell_type": "code",
   "execution_count": 3,
   "metadata": {},
   "outputs": [],
   "source": [
    "geo1 = pd.read_csv(\"geo_data_0.csv\")\n",
    "geo2 = pd.read_csv(\"geo_data_1.csv\")\n",
    "geo3 = pd.read_csv(\"geo_data_2.csv\")"
   ]
  },
  {
   "cell_type": "code",
   "execution_count": 4,
   "metadata": {},
   "outputs": [
    {
     "name": "stdout",
     "output_type": "stream",
     "text": [
      "<class 'pandas.core.frame.DataFrame'>\n",
      "RangeIndex: 100000 entries, 0 to 99999\n",
      "Data columns (total 5 columns):\n",
      " #   Column   Non-Null Count   Dtype  \n",
      "---  ------   --------------   -----  \n",
      " 0   id       100000 non-null  object \n",
      " 1   f0       100000 non-null  float64\n",
      " 2   f1       100000 non-null  float64\n",
      " 3   f2       100000 non-null  float64\n",
      " 4   product  100000 non-null  float64\n",
      "dtypes: float64(4), object(1)\n",
      "memory usage: 3.8+ MB\n",
      "None\n",
      "<class 'pandas.core.frame.DataFrame'>\n",
      "RangeIndex: 100000 entries, 0 to 99999\n",
      "Data columns (total 5 columns):\n",
      " #   Column   Non-Null Count   Dtype  \n",
      "---  ------   --------------   -----  \n",
      " 0   id       100000 non-null  object \n",
      " 1   f0       100000 non-null  float64\n",
      " 2   f1       100000 non-null  float64\n",
      " 3   f2       100000 non-null  float64\n",
      " 4   product  100000 non-null  float64\n",
      "dtypes: float64(4), object(1)\n",
      "memory usage: 3.8+ MB\n",
      "None\n",
      "<class 'pandas.core.frame.DataFrame'>\n",
      "RangeIndex: 100000 entries, 0 to 99999\n",
      "Data columns (total 5 columns):\n",
      " #   Column   Non-Null Count   Dtype  \n",
      "---  ------   --------------   -----  \n",
      " 0   id       100000 non-null  object \n",
      " 1   f0       100000 non-null  float64\n",
      " 2   f1       100000 non-null  float64\n",
      " 3   f2       100000 non-null  float64\n",
      " 4   product  100000 non-null  float64\n",
      "dtypes: float64(4), object(1)\n",
      "memory usage: 3.8+ MB\n",
      "None\n"
     ]
    }
   ],
   "source": [
    "print(geo1.info())\n",
    "print(geo2.info())\n",
    "print(geo3.info())"
   ]
  },
  {
   "cell_type": "markdown",
   "metadata": {},
   "source": [
    "Далее удалим столбец 'id' во всех трех датасетах, поскольку каждое значение уникально, и для модели в нем нет необходимости."
   ]
  },
  {
   "cell_type": "code",
   "execution_count": 5,
   "metadata": {},
   "outputs": [],
   "source": [
    "geo1 = geo1.drop('id', axis=1)\n",
    "geo2 = geo2.drop('id', axis=1)\n",
    "geo3 = geo3.drop('id', axis=1)"
   ]
  },
  {
   "cell_type": "code",
   "execution_count": 10,
   "metadata": {},
   "outputs": [
    {
     "data": {
      "text/plain": [
       "'Регион 1:'"
      ]
     },
     "metadata": {},
     "output_type": "display_data"
    },
    {
     "data": {
      "text/html": [
       "<div>\n",
       "<style scoped>\n",
       "    .dataframe tbody tr th:only-of-type {\n",
       "        vertical-align: middle;\n",
       "    }\n",
       "\n",
       "    .dataframe tbody tr th {\n",
       "        vertical-align: top;\n",
       "    }\n",
       "\n",
       "    .dataframe thead th {\n",
       "        text-align: right;\n",
       "    }\n",
       "</style>\n",
       "<table border=\"1\" class=\"dataframe\">\n",
       "  <thead>\n",
       "    <tr style=\"text-align: right;\">\n",
       "      <th></th>\n",
       "      <th>f0</th>\n",
       "      <th>f1</th>\n",
       "      <th>f2</th>\n",
       "      <th>product</th>\n",
       "    </tr>\n",
       "  </thead>\n",
       "  <tbody>\n",
       "    <tr>\n",
       "      <th>count</th>\n",
       "      <td>100000.000000</td>\n",
       "      <td>100000.000000</td>\n",
       "      <td>100000.000000</td>\n",
       "      <td>100000.000000</td>\n",
       "    </tr>\n",
       "    <tr>\n",
       "      <th>mean</th>\n",
       "      <td>0.500419</td>\n",
       "      <td>0.250143</td>\n",
       "      <td>2.502647</td>\n",
       "      <td>92.500000</td>\n",
       "    </tr>\n",
       "    <tr>\n",
       "      <th>std</th>\n",
       "      <td>0.871832</td>\n",
       "      <td>0.504433</td>\n",
       "      <td>3.248248</td>\n",
       "      <td>44.288691</td>\n",
       "    </tr>\n",
       "    <tr>\n",
       "      <th>min</th>\n",
       "      <td>-1.408605</td>\n",
       "      <td>-0.848218</td>\n",
       "      <td>-12.088328</td>\n",
       "      <td>0.000000</td>\n",
       "    </tr>\n",
       "    <tr>\n",
       "      <th>25%</th>\n",
       "      <td>-0.072580</td>\n",
       "      <td>-0.200881</td>\n",
       "      <td>0.287748</td>\n",
       "      <td>56.497507</td>\n",
       "    </tr>\n",
       "    <tr>\n",
       "      <th>50%</th>\n",
       "      <td>0.502360</td>\n",
       "      <td>0.250252</td>\n",
       "      <td>2.515969</td>\n",
       "      <td>91.849972</td>\n",
       "    </tr>\n",
       "    <tr>\n",
       "      <th>75%</th>\n",
       "      <td>1.073581</td>\n",
       "      <td>0.700646</td>\n",
       "      <td>4.715088</td>\n",
       "      <td>128.564089</td>\n",
       "    </tr>\n",
       "    <tr>\n",
       "      <th>max</th>\n",
       "      <td>2.362331</td>\n",
       "      <td>1.343769</td>\n",
       "      <td>16.003790</td>\n",
       "      <td>185.364347</td>\n",
       "    </tr>\n",
       "  </tbody>\n",
       "</table>\n",
       "</div>"
      ],
      "text/plain": [
       "                  f0             f1             f2        product\n",
       "count  100000.000000  100000.000000  100000.000000  100000.000000\n",
       "mean        0.500419       0.250143       2.502647      92.500000\n",
       "std         0.871832       0.504433       3.248248      44.288691\n",
       "min        -1.408605      -0.848218     -12.088328       0.000000\n",
       "25%        -0.072580      -0.200881       0.287748      56.497507\n",
       "50%         0.502360       0.250252       2.515969      91.849972\n",
       "75%         1.073581       0.700646       4.715088     128.564089\n",
       "max         2.362331       1.343769      16.003790     185.364347"
      ]
     },
     "metadata": {},
     "output_type": "display_data"
    },
    {
     "data": {
      "text/plain": [
       "'Регион 2:'"
      ]
     },
     "metadata": {},
     "output_type": "display_data"
    },
    {
     "data": {
      "text/html": [
       "<div>\n",
       "<style scoped>\n",
       "    .dataframe tbody tr th:only-of-type {\n",
       "        vertical-align: middle;\n",
       "    }\n",
       "\n",
       "    .dataframe tbody tr th {\n",
       "        vertical-align: top;\n",
       "    }\n",
       "\n",
       "    .dataframe thead th {\n",
       "        text-align: right;\n",
       "    }\n",
       "</style>\n",
       "<table border=\"1\" class=\"dataframe\">\n",
       "  <thead>\n",
       "    <tr style=\"text-align: right;\">\n",
       "      <th></th>\n",
       "      <th>f0</th>\n",
       "      <th>f1</th>\n",
       "      <th>f2</th>\n",
       "      <th>product</th>\n",
       "    </tr>\n",
       "  </thead>\n",
       "  <tbody>\n",
       "    <tr>\n",
       "      <th>count</th>\n",
       "      <td>100000.000000</td>\n",
       "      <td>100000.000000</td>\n",
       "      <td>100000.000000</td>\n",
       "      <td>100000.000000</td>\n",
       "    </tr>\n",
       "    <tr>\n",
       "      <th>mean</th>\n",
       "      <td>1.141296</td>\n",
       "      <td>-4.796579</td>\n",
       "      <td>2.494541</td>\n",
       "      <td>68.825000</td>\n",
       "    </tr>\n",
       "    <tr>\n",
       "      <th>std</th>\n",
       "      <td>8.965932</td>\n",
       "      <td>5.119872</td>\n",
       "      <td>1.703572</td>\n",
       "      <td>45.944423</td>\n",
       "    </tr>\n",
       "    <tr>\n",
       "      <th>min</th>\n",
       "      <td>-31.609576</td>\n",
       "      <td>-26.358598</td>\n",
       "      <td>-0.018144</td>\n",
       "      <td>0.000000</td>\n",
       "    </tr>\n",
       "    <tr>\n",
       "      <th>25%</th>\n",
       "      <td>-6.298551</td>\n",
       "      <td>-8.267985</td>\n",
       "      <td>1.000021</td>\n",
       "      <td>26.953261</td>\n",
       "    </tr>\n",
       "    <tr>\n",
       "      <th>50%</th>\n",
       "      <td>1.153055</td>\n",
       "      <td>-4.813172</td>\n",
       "      <td>2.011479</td>\n",
       "      <td>57.085625</td>\n",
       "    </tr>\n",
       "    <tr>\n",
       "      <th>75%</th>\n",
       "      <td>8.621015</td>\n",
       "      <td>-1.332816</td>\n",
       "      <td>3.999904</td>\n",
       "      <td>107.813044</td>\n",
       "    </tr>\n",
       "    <tr>\n",
       "      <th>max</th>\n",
       "      <td>29.421755</td>\n",
       "      <td>18.734063</td>\n",
       "      <td>5.019721</td>\n",
       "      <td>137.945408</td>\n",
       "    </tr>\n",
       "  </tbody>\n",
       "</table>\n",
       "</div>"
      ],
      "text/plain": [
       "                  f0             f1             f2        product\n",
       "count  100000.000000  100000.000000  100000.000000  100000.000000\n",
       "mean        1.141296      -4.796579       2.494541      68.825000\n",
       "std         8.965932       5.119872       1.703572      45.944423\n",
       "min       -31.609576     -26.358598      -0.018144       0.000000\n",
       "25%        -6.298551      -8.267985       1.000021      26.953261\n",
       "50%         1.153055      -4.813172       2.011479      57.085625\n",
       "75%         8.621015      -1.332816       3.999904     107.813044\n",
       "max        29.421755      18.734063       5.019721     137.945408"
      ]
     },
     "metadata": {},
     "output_type": "display_data"
    },
    {
     "data": {
      "text/plain": [
       "'Регион 3:'"
      ]
     },
     "metadata": {},
     "output_type": "display_data"
    },
    {
     "data": {
      "text/html": [
       "<div>\n",
       "<style scoped>\n",
       "    .dataframe tbody tr th:only-of-type {\n",
       "        vertical-align: middle;\n",
       "    }\n",
       "\n",
       "    .dataframe tbody tr th {\n",
       "        vertical-align: top;\n",
       "    }\n",
       "\n",
       "    .dataframe thead th {\n",
       "        text-align: right;\n",
       "    }\n",
       "</style>\n",
       "<table border=\"1\" class=\"dataframe\">\n",
       "  <thead>\n",
       "    <tr style=\"text-align: right;\">\n",
       "      <th></th>\n",
       "      <th>f0</th>\n",
       "      <th>f1</th>\n",
       "      <th>f2</th>\n",
       "      <th>product</th>\n",
       "    </tr>\n",
       "  </thead>\n",
       "  <tbody>\n",
       "    <tr>\n",
       "      <th>count</th>\n",
       "      <td>100000.000000</td>\n",
       "      <td>100000.000000</td>\n",
       "      <td>100000.000000</td>\n",
       "      <td>100000.000000</td>\n",
       "    </tr>\n",
       "    <tr>\n",
       "      <th>mean</th>\n",
       "      <td>0.002023</td>\n",
       "      <td>-0.002081</td>\n",
       "      <td>2.495128</td>\n",
       "      <td>95.000000</td>\n",
       "    </tr>\n",
       "    <tr>\n",
       "      <th>std</th>\n",
       "      <td>1.732045</td>\n",
       "      <td>1.730417</td>\n",
       "      <td>3.473445</td>\n",
       "      <td>44.749921</td>\n",
       "    </tr>\n",
       "    <tr>\n",
       "      <th>min</th>\n",
       "      <td>-8.760004</td>\n",
       "      <td>-7.084020</td>\n",
       "      <td>-11.970335</td>\n",
       "      <td>0.000000</td>\n",
       "    </tr>\n",
       "    <tr>\n",
       "      <th>25%</th>\n",
       "      <td>-1.162288</td>\n",
       "      <td>-1.174820</td>\n",
       "      <td>0.130359</td>\n",
       "      <td>59.450441</td>\n",
       "    </tr>\n",
       "    <tr>\n",
       "      <th>50%</th>\n",
       "      <td>0.009424</td>\n",
       "      <td>-0.009482</td>\n",
       "      <td>2.484236</td>\n",
       "      <td>94.925613</td>\n",
       "    </tr>\n",
       "    <tr>\n",
       "      <th>75%</th>\n",
       "      <td>1.158535</td>\n",
       "      <td>1.163678</td>\n",
       "      <td>4.858794</td>\n",
       "      <td>130.595027</td>\n",
       "    </tr>\n",
       "    <tr>\n",
       "      <th>max</th>\n",
       "      <td>7.238262</td>\n",
       "      <td>7.844801</td>\n",
       "      <td>16.739402</td>\n",
       "      <td>190.029838</td>\n",
       "    </tr>\n",
       "  </tbody>\n",
       "</table>\n",
       "</div>"
      ],
      "text/plain": [
       "                  f0             f1             f2        product\n",
       "count  100000.000000  100000.000000  100000.000000  100000.000000\n",
       "mean        0.002023      -0.002081       2.495128      95.000000\n",
       "std         1.732045       1.730417       3.473445      44.749921\n",
       "min        -8.760004      -7.084020     -11.970335       0.000000\n",
       "25%        -1.162288      -1.174820       0.130359      59.450441\n",
       "50%         0.009424      -0.009482       2.484236      94.925613\n",
       "75%         1.158535       1.163678       4.858794     130.595027\n",
       "max         7.238262       7.844801      16.739402     190.029838"
      ]
     },
     "metadata": {},
     "output_type": "display_data"
    }
   ],
   "source": [
    "display(\"Регион 1:\", geo1.describe())\n",
    "display(\"Регион 2:\", geo2.describe())\n",
    "display(\"Регион 3:\", geo3.describe())"
   ]
  },
  {
   "cell_type": "code",
   "execution_count": 11,
   "metadata": {},
   "outputs": [
    {
     "data": {
      "text/plain": [
       "'Регион 1:'"
      ]
     },
     "metadata": {},
     "output_type": "display_data"
    },
    {
     "data": {
      "text/html": [
       "<div>\n",
       "<style scoped>\n",
       "    .dataframe tbody tr th:only-of-type {\n",
       "        vertical-align: middle;\n",
       "    }\n",
       "\n",
       "    .dataframe tbody tr th {\n",
       "        vertical-align: top;\n",
       "    }\n",
       "\n",
       "    .dataframe thead th {\n",
       "        text-align: right;\n",
       "    }\n",
       "</style>\n",
       "<table border=\"1\" class=\"dataframe\">\n",
       "  <thead>\n",
       "    <tr style=\"text-align: right;\">\n",
       "      <th></th>\n",
       "      <th>f0</th>\n",
       "      <th>f1</th>\n",
       "      <th>f2</th>\n",
       "      <th>product</th>\n",
       "    </tr>\n",
       "  </thead>\n",
       "  <tbody>\n",
       "    <tr>\n",
       "      <th>f0</th>\n",
       "      <td>1.000000</td>\n",
       "      <td>-0.440723</td>\n",
       "      <td>-0.003153</td>\n",
       "      <td>0.143536</td>\n",
       "    </tr>\n",
       "    <tr>\n",
       "      <th>f1</th>\n",
       "      <td>-0.440723</td>\n",
       "      <td>1.000000</td>\n",
       "      <td>0.001724</td>\n",
       "      <td>-0.192356</td>\n",
       "    </tr>\n",
       "    <tr>\n",
       "      <th>f2</th>\n",
       "      <td>-0.003153</td>\n",
       "      <td>0.001724</td>\n",
       "      <td>1.000000</td>\n",
       "      <td>0.483663</td>\n",
       "    </tr>\n",
       "    <tr>\n",
       "      <th>product</th>\n",
       "      <td>0.143536</td>\n",
       "      <td>-0.192356</td>\n",
       "      <td>0.483663</td>\n",
       "      <td>1.000000</td>\n",
       "    </tr>\n",
       "  </tbody>\n",
       "</table>\n",
       "</div>"
      ],
      "text/plain": [
       "               f0        f1        f2   product\n",
       "f0       1.000000 -0.440723 -0.003153  0.143536\n",
       "f1      -0.440723  1.000000  0.001724 -0.192356\n",
       "f2      -0.003153  0.001724  1.000000  0.483663\n",
       "product  0.143536 -0.192356  0.483663  1.000000"
      ]
     },
     "metadata": {},
     "output_type": "display_data"
    },
    {
     "data": {
      "text/plain": [
       "'Регион 2:'"
      ]
     },
     "metadata": {},
     "output_type": "display_data"
    },
    {
     "data": {
      "text/html": [
       "<div>\n",
       "<style scoped>\n",
       "    .dataframe tbody tr th:only-of-type {\n",
       "        vertical-align: middle;\n",
       "    }\n",
       "\n",
       "    .dataframe tbody tr th {\n",
       "        vertical-align: top;\n",
       "    }\n",
       "\n",
       "    .dataframe thead th {\n",
       "        text-align: right;\n",
       "    }\n",
       "</style>\n",
       "<table border=\"1\" class=\"dataframe\">\n",
       "  <thead>\n",
       "    <tr style=\"text-align: right;\">\n",
       "      <th></th>\n",
       "      <th>f0</th>\n",
       "      <th>f1</th>\n",
       "      <th>f2</th>\n",
       "      <th>product</th>\n",
       "    </tr>\n",
       "  </thead>\n",
       "  <tbody>\n",
       "    <tr>\n",
       "      <th>f0</th>\n",
       "      <td>1.000000</td>\n",
       "      <td>0.182287</td>\n",
       "      <td>-0.001777</td>\n",
       "      <td>-0.030491</td>\n",
       "    </tr>\n",
       "    <tr>\n",
       "      <th>f1</th>\n",
       "      <td>0.182287</td>\n",
       "      <td>1.000000</td>\n",
       "      <td>-0.002595</td>\n",
       "      <td>-0.010155</td>\n",
       "    </tr>\n",
       "    <tr>\n",
       "      <th>f2</th>\n",
       "      <td>-0.001777</td>\n",
       "      <td>-0.002595</td>\n",
       "      <td>1.000000</td>\n",
       "      <td>0.999397</td>\n",
       "    </tr>\n",
       "    <tr>\n",
       "      <th>product</th>\n",
       "      <td>-0.030491</td>\n",
       "      <td>-0.010155</td>\n",
       "      <td>0.999397</td>\n",
       "      <td>1.000000</td>\n",
       "    </tr>\n",
       "  </tbody>\n",
       "</table>\n",
       "</div>"
      ],
      "text/plain": [
       "               f0        f1        f2   product\n",
       "f0       1.000000  0.182287 -0.001777 -0.030491\n",
       "f1       0.182287  1.000000 -0.002595 -0.010155\n",
       "f2      -0.001777 -0.002595  1.000000  0.999397\n",
       "product -0.030491 -0.010155  0.999397  1.000000"
      ]
     },
     "metadata": {},
     "output_type": "display_data"
    },
    {
     "data": {
      "text/plain": [
       "'Регион 3:'"
      ]
     },
     "metadata": {},
     "output_type": "display_data"
    },
    {
     "data": {
      "text/html": [
       "<div>\n",
       "<style scoped>\n",
       "    .dataframe tbody tr th:only-of-type {\n",
       "        vertical-align: middle;\n",
       "    }\n",
       "\n",
       "    .dataframe tbody tr th {\n",
       "        vertical-align: top;\n",
       "    }\n",
       "\n",
       "    .dataframe thead th {\n",
       "        text-align: right;\n",
       "    }\n",
       "</style>\n",
       "<table border=\"1\" class=\"dataframe\">\n",
       "  <thead>\n",
       "    <tr style=\"text-align: right;\">\n",
       "      <th></th>\n",
       "      <th>f0</th>\n",
       "      <th>f1</th>\n",
       "      <th>f2</th>\n",
       "      <th>product</th>\n",
       "    </tr>\n",
       "  </thead>\n",
       "  <tbody>\n",
       "    <tr>\n",
       "      <th>f0</th>\n",
       "      <td>1.000000</td>\n",
       "      <td>0.000528</td>\n",
       "      <td>-0.000448</td>\n",
       "      <td>-0.001987</td>\n",
       "    </tr>\n",
       "    <tr>\n",
       "      <th>f1</th>\n",
       "      <td>0.000528</td>\n",
       "      <td>1.000000</td>\n",
       "      <td>0.000779</td>\n",
       "      <td>-0.001012</td>\n",
       "    </tr>\n",
       "    <tr>\n",
       "      <th>f2</th>\n",
       "      <td>-0.000448</td>\n",
       "      <td>0.000779</td>\n",
       "      <td>1.000000</td>\n",
       "      <td>0.445871</td>\n",
       "    </tr>\n",
       "    <tr>\n",
       "      <th>product</th>\n",
       "      <td>-0.001987</td>\n",
       "      <td>-0.001012</td>\n",
       "      <td>0.445871</td>\n",
       "      <td>1.000000</td>\n",
       "    </tr>\n",
       "  </tbody>\n",
       "</table>\n",
       "</div>"
      ],
      "text/plain": [
       "               f0        f1        f2   product\n",
       "f0       1.000000  0.000528 -0.000448 -0.001987\n",
       "f1       0.000528  1.000000  0.000779 -0.001012\n",
       "f2      -0.000448  0.000779  1.000000  0.445871\n",
       "product -0.001987 -0.001012  0.445871  1.000000"
      ]
     },
     "metadata": {},
     "output_type": "display_data"
    }
   ],
   "source": [
    "# Корреляции между параметрами по каждому региону\n",
    "display(\"Регион 1:\", geo1.corr())\n",
    "display(\"Регион 2:\", geo2.corr())\n",
    "display(\"Регион 3:\", geo3.corr())"
   ]
  },
  {
   "cell_type": "markdown",
   "metadata": {},
   "source": [
    "**Промежуточный вывод:**\n",
    "\n",
    "Можно заметить, что знаения признаков могут в зависимости от региона довольно сильно разниться. Так, например, максимальное значение признака \"f2\" по Регионам №1 и №3 почти совпадают (~ 16), а в Регионе №2 - ниже более, чем в три раза (~5). Тем не менее, поскольку данные синтетические, сложно однозначно сказать, или подобные колебания значения являются нормой.\n",
    "\n",
    "Рассмотрев корреляцию между признаками - f0, f1, f2 - и объемом запасов, можно заметить, что признаки \"f0\" и \"f1\" не сильно влияют на объем запасов, в то время как \"f2\" так или иначе демонстрирует некое взаимосвязь с объемом запасов. Примечательно, что в Регионе № 2 зависимость почти полностью прямая. Ввиду этого можно сказать, что наибольшую роль при определении объемом запасов влияет именно признак \"f2\", однако учитывать другие признаки также необходимо, поскольку они могут быть в той или иной степени связаны между собой."
   ]
  },
  {
   "cell_type": "markdown",
   "metadata": {},
   "source": [
    "<a name='model_training'></a>\n",
    "## 2. Обучение и проверка модели\n",
    "[Вернуться во Введение](#introduction)"
   ]
  },
  {
   "cell_type": "markdown",
   "metadata": {},
   "source": [
    "Разделим показатели датасетов по каждому из регионов на признаки и на целевой признак. В соответствии с номером регионы, переменные признаки будут иметь соответствующую цифру (1-3)."
   ]
  },
  {
   "cell_type": "code",
   "execution_count": 8,
   "metadata": {},
   "outputs": [],
   "source": [
    "def divide_data(geo):\n",
    "    features = geo.drop('product', axis=1)\n",
    "    target = geo['product']\n",
    "    return features, target"
   ]
  },
  {
   "cell_type": "code",
   "execution_count": 9,
   "metadata": {},
   "outputs": [],
   "source": [
    "X1, y1 = divide_data(geo1)\n",
    "\n",
    "X2, y2 = divide_data(geo2)\n",
    "\n",
    "X3, y3 = divide_data(geo3)"
   ]
  },
  {
   "cell_type": "markdown",
   "metadata": {},
   "source": [
    "Разобьем признаки и целевой признак на обучающую, валидационную выборки."
   ]
  },
  {
   "cell_type": "code",
   "execution_count": 10,
   "metadata": {},
   "outputs": [],
   "source": [
    "def create_samples(features, target):\n",
    "    return train_test_split(\n",
    "        features,\n",
    "        target,\n",
    "        test_size=0.25, \n",
    "        random_state=42\n",
    "    )"
   ]
  },
  {
   "cell_type": "code",
   "execution_count": 11,
   "metadata": {},
   "outputs": [],
   "source": [
    "# Регион №1\n",
    "X1_train, X1_valid, y1_train, y1_valid = create_samples(X1, y1)\n",
    "\n",
    "# Регион №2\n",
    "X2_train, X2_valid, y2_train, y2_valid = create_samples(X2, y2)\n",
    "\n",
    "# Регион №3\n",
    "X3_train, X3_valid, y3_train, y3_valid = create_samples(X3, y3)"
   ]
  },
  {
   "cell_type": "markdown",
   "metadata": {},
   "source": [
    "Создадим и обучим модель Линейной регрессии. Далее рассмотрим среднее предсказанное количество запасов нефти и среднеквадратичную ошибку (RMSE)."
   ]
  },
  {
   "cell_type": "code",
   "execution_count": 12,
   "metadata": {},
   "outputs": [],
   "source": [
    "def model_training(geo_num, features_train, features_valid, target_train, target_valid):\n",
    "    model = LinearRegression()\n",
    "    model.fit(features_train, target_train)\n",
    "    target_pred = model.predict(features_valid)\n",
    "    rmse = round(mean_squared_error(target_valid, target_pred) ** 0.5, 3)\n",
    "    product_mean = round(target_pred.mean())\n",
    "    \n",
    "    print(\"Средний запас предсказанного сырья (в тыс.):\", product_mean)\n",
    "    print(f\"RMSE Региона №{geo_num} (в тыс.): {rmse}\\n\")\n",
    "    \n",
    "    return target_pred"
   ]
  },
  {
   "cell_type": "code",
   "execution_count": 13,
   "metadata": {},
   "outputs": [
    {
     "name": "stdout",
     "output_type": "stream",
     "text": [
      "Средний запас предсказанного сырья (в тыс.): 92\n",
      "RMSE Региона №1 (в тыс.): 37.757\n",
      "\n",
      "Средний запас предсказанного сырья (в тыс.): 69\n",
      "RMSE Региона №2 (в тыс.): 0.89\n",
      "\n",
      "Средний запас предсказанного сырья (в тыс.): 95\n",
      "RMSE Региона №3 (в тыс.): 40.146\n",
      "\n"
     ]
    }
   ],
   "source": [
    "y1_pred = model_training(1, X1_train, X1_valid, y1_train, y1_valid)\n",
    "y2_pred = model_training(2, X2_train, X2_valid, y2_train, y2_valid)\n",
    "y3_pred = model_training(3, X3_train, X3_valid, y3_train, y3_valid)"
   ]
  },
  {
   "cell_type": "markdown",
   "metadata": {},
   "source": [
    "**Промежуточный вывод:**\n",
    "\n",
    "Примечательно, что в Регионах №1 и №3 наблюдаются более высокие значения среднего запаса предсказанного сырья - 95 и 93 тыс. баррелей соответственно, в то время как в Регионе №2 - лишь 69 тыс. баррелей. Однако, в то же самое время для Регионов №1 и №3 характерны более высокие значения среднеквадратичной ошибки - 37 и 40 соответственно, а для Региона №2 - только 0,89. "
   ]
  },
  {
   "cell_type": "markdown",
   "metadata": {},
   "source": [
    "<a name='profit_calculation'></a>\n",
    "## 3. Подготовка к расчёту прибыли\n",
    "[Вернуться во Введение](#introduction)"
   ]
  },
  {
   "cell_type": "code",
   "execution_count": 14,
   "metadata": {},
   "outputs": [
    {
     "name": "stdout",
     "output_type": "stream",
     "text": [
      "Минимальный запас сырья по топ-200 скважин для безубыточности должен быть: 111.11\n"
     ]
    }
   ],
   "source": [
    "min_avg_top_200 = round(BUDGET / (PROFIT_PER_UNIT * OILWELL_200), 2)\n",
    "\n",
    "print(\"Минимальный запас сырья по топ-200 скважин для безубыточности должен быть:\", min_avg_top_200)"
   ]
  },
  {
   "cell_type": "markdown",
   "metadata": {},
   "source": [
    "Поскольку \"ГлавРосГосНефть\" планирует разработать 200 лучших скважин для разработки, посмотрим средние значения объема запасов 200 скважин с наибольшим показателем \"product\" в каждом регионе."
   ]
  },
  {
   "cell_type": "code",
   "execution_count": 15,
   "metadata": {},
   "outputs": [
    {
     "name": "stdout",
     "output_type": "stream",
     "text": [
      "Средний объем запасов 200 лучших скважин по случайной выборке из 500 скажин по регионам (в тыс.):\n",
      "    Регион 1: 133.76\n",
      "    Регион 2: 114.63\n",
      "    Регион 3: 138.12\n"
     ]
    }
   ],
   "source": [
    "def random_top_200(geo):\n",
    "    state = RandomState(12345)\n",
    "    random_sample = geo.sample(n=500, random_state=state)\n",
    "    random_top_200 = random_sample.sort_values(by='product', ascending=False)[:200]\n",
    "    return round(random_top_200['product'].mean(), 2)\n",
    "\n",
    "print(\"Средний объем запасов 200 лучших скважин по случайной выборке из 500 скажин по регионам (в тыс.):\")\n",
    "print(\"    Регион 1:\", random_top_200(geo1))\n",
    "print(\"    Регион 2:\", random_top_200(geo2))\n",
    "print(\"    Регион 3:\", random_top_200(geo3))"
   ]
  },
  {
   "cell_type": "markdown",
   "metadata": {},
   "source": [
    "**Промежуточный вывод:**\n",
    "\n",
    "На основе полученных результатов можно увидеть, что в Регионах №1 и №3 средние показатели объема запасов по 200 лучших скважин из случайных 500 превышает точку безубыточности на ~20%, а показатель по Региону №2 лишь слегка превышает данную границу, ввиду чего можно сделать вывод о том, что рассмотрение полностью случайного отбора может увеличить риск убытков, в случае, если выбранные скважины не будут давать необходимый объем нефти."
   ]
  },
  {
   "cell_type": "markdown",
   "metadata": {},
   "source": [
    "<a name='profit_appraisal'></a>\n",
    "## 4. Расчёт прибыли и рисков \n",
    "[Вернуться во Введение](#introduction)"
   ]
  },
  {
   "cell_type": "markdown",
   "metadata": {},
   "source": [
    "Напишем формулу для расчета прибыли по предсказанным значениям целевого показателя для каждого из исследуемых регионов."
   ]
  },
  {
   "cell_type": "code",
   "execution_count": 16,
   "metadata": {},
   "outputs": [],
   "source": [
    "# Функция для расчета предполагаемой прибыли\n",
    "def profit_appraisal(target, predictions):\n",
    "    predictions_sorted = predictions.sort_values(ascending=False)\n",
    "    selected = target[predictions_sorted.index][:OILWELL_200]\n",
    "    \n",
    "    return selected.sum() * PROFIT_PER_UNIT - BUDGET"
   ]
  },
  {
   "cell_type": "code",
   "execution_count": 17,
   "metadata": {},
   "outputs": [
    {
     "name": "stdout",
     "output_type": "stream",
     "text": [
      "Регион 1. Доверительный интервал (в руб.): -117,742,136 | 911,737,050\n",
      "    Среднее значение прибыли (в руб.): 406,278,783\n",
      "    Риск: 6.7%\n",
      "\n",
      "Регион 2. Доверительный интервал (в руб.): 35,728,489 | 828,006,639\n",
      "    Среднее значение прибыли (в руб.): 441,504,277\n",
      "    Риск: 1.6%\n",
      "\n",
      "Регион 3. Доверительный интервал (в руб.): -164,785,166 | 888,206,234\n",
      "    Среднее значение прибыли (в руб.): 385,213,195\n",
      "    Риск: 7.8%\n",
      "\n"
     ]
    }
   ],
   "source": [
    "# Рассчитаем доверительный интервал, а также риск убыточности\n",
    "alpha = 0.5\n",
    "state = RandomState(12345)\n",
    "\n",
    "y1_pred = pd.Series(y1_pred).reset_index(drop=True)\n",
    "y2_pred = pd.Series(y2_pred).reset_index(drop=True)\n",
    "y3_pred = pd.Series(y3_pred).reset_index(drop=True)\n",
    "y1_valid = pd.Series(y1_valid).reset_index(drop=True)\n",
    "y2_valid = pd.Series(y2_valid).reset_index(drop=True)\n",
    "y3_valid = pd.Series(y3_valid).reset_index(drop=True)\n",
    "\n",
    "targets = [y1_valid, y2_valid, y3_valid]\n",
    "predictions = [y1_pred, y2_pred, y3_pred]\n",
    "\n",
    "intervals = {\n",
    "    \"region\": [],\n",
    "    \"lower\": [],\n",
    "    \"upper\": [],\n",
    "    \"avg_profit\": [],\n",
    "    \"risk\": [],\n",
    "    \"breakeven_point\": 0,\n",
    "}\n",
    "\n",
    "for n in range(len(targets)):\n",
    "    values = []\n",
    "    for i in range(1000):\n",
    "        target_subsample = targets[n].sample(n=OILWELL_500, replace=True, random_state=state)\n",
    "        pred_subsample = predictions[n][target_subsample.index]\n",
    "        target_subsample = target_subsample.reset_index(drop=True)\n",
    "        pred_subsample = pred_subsample.reset_index(drop=True)\n",
    "        values.append(profit_appraisal(target_subsample, pred_subsample))\n",
    "\n",
    "    values = pd.Series(values)\n",
    "\n",
    "    lower = int(values.quantile(0.025))\n",
    "    upper = int(values.quantile(0.975))\n",
    "    avg_profit = int(values.mean())\n",
    "    #risk = round(len(values[values < 0]) / len(values) * 100, 2)\n",
    "    risk = (values < 0).mean() * 100\n",
    "    \n",
    "    intervals[\"region\"].append(n + 1)\n",
    "    intervals[\"lower\"].append(lower)\n",
    "    intervals[\"upper\"].append(upper)\n",
    "    intervals[\"avg_profit\"].append(avg_profit)\n",
    "    intervals[\"risk\"].append(risk)\n",
    "    \n",
    "    print(f\"Регион {n + 1}. Доверительный интервал (в руб.):\", \"{:,}\".format(lower), \"|\",  \"{:,}\".format(upper))\n",
    "    print(\"    Среднее значение прибыли (в руб.):\", \"{:,}\".format(avg_profit))\n",
    "    print(f\"    Риск: {risk}%\\n\")\n",
    "\n",
    "intervals = pd.DataFrame(intervals)"
   ]
  },
  {
   "cell_type": "code",
   "execution_count": 18,
   "metadata": {},
   "outputs": [
    {
     "data": {
      "image/png": "[encoded data removed]",
      "text/plain": [
       "<Figure size 504x360 with 1 Axes>"
      ]
     },
     "metadata": {
      "needs_background": "light"
     },
     "output_type": "display_data"
    }
   ],
   "source": [
    "# Отобразим на графике доверительные интервалы по регионам с точкой безубыточности\n",
    "ax = intervals.plot(\n",
    "    kind='line',\n",
    "    x='region',\n",
    "    y=[\"lower\", \"upper\", 'breakeven_point'],\n",
    "    grid=True,\n",
    "    style={'lower': 'orange', 'upper': 'g', 'breakeven_point': 'r'},\n",
    "    figsize=(7, 5),\n",
    "    title='Доверительные интервалы по регионам и точка безубыточности, в руб.'\n",
    ")\n",
    "\n",
    "plt.ylabel(\"Объем прибыли\")\n",
    "plt.xlabel(\"Регион\")\n",
    "plt.xticks(range(1, 4))\n",
    "ax.yaxis.set_major_formatter(mpl.ticker.StrMethodFormatter('{x:,.0f}'))\n",
    "plt.legend(['Нижняя граница\\nдоверительного интервала', 'Верхняя граница\\nдоверительного интервала', 'Линия безубыточности'])\n",
    "plt.show()"
   ]
  },
  {
   "cell_type": "markdown",
   "metadata": {},
   "source": [
    "<a name='conclusion'></a>\n",
    "## 5. Общий вывод\n",
    "[Вернуться во Введение](#introduction)\n",
    "\n",
    "Взяты базы данных по трем регионам по характеристикам скважин: признаки (f1, f2, f3) и целевым признаком - объемом запасов (product). Для эффективного обучения модели линейной регрессии удалем столбец 'id', поскольку почти 100% всех объектов уникальны. Далее для каждого из регионов были созданы отдельные тестовые и валидационные выборки, на основе которых и осуществлялось обучение моделей линейной регрессии. \n",
    "\n",
    "Для демонстрации целесообразности использования техники бутстреп были взяты сначала случайные 500 скважин по каждому из регионов, из которых были взяты 200 лучших по объема запасов нефти. Расчет среднего показателя объема запасов хоть и превосходил точку безубыточности для каждого из регионов, однако, например, для Региона №2 лишь на 3 тыс., ввиду чего риск убытков значительно повышается. Именно далее была рассмотрены показатели с помощью техники бутстреп, рассчитав при этом следующие показатели: 95%-й доверительный интервал (0.025 и 0.975 - квантили), среднее объем прибыли, а также риск убытков.\n",
    "\n",
    "В конечном итоге получились следующие значения для каждого из регионов:\n",
    "1. Регион 1:\n",
    "    - Доверительный интервал (в руб.): -117,742,136 | 911,737,050;\n",
    "    - Среднее значение прибыли (в руб.): 406,278,783;\n",
    "    - Риск: 6.7%.\n",
    "2. Регион 2:\n",
    "    - Доверительный интервал (в руб.): 35,728,489 | 828,006,639;\n",
    "    - Среднее значение прибыли (в руб.): 441,504,277;\n",
    "    - Риск: 1.6%.\n",
    "3. Регион 3:\n",
    "    - Доверительный интервал (в руб.): -164,785,166 | 888,206,234;\n",
    "    - Среднее значение прибыли (в руб.): 385,213,195;\n",
    "    - Риск: 7.8%.\n",
    "\n",
    "Проанализировав значения необходимых показателей, можно сделать вывод о том, что наиболее привлекательным регионом для разработки скважин нефти будет **Регион №2**, поскольку даже 0.025-квантиль имеет положительное значение, а также риск убытков удовлетворяет необходимому требования - менее 2.5% - и составляет 1,6%.\n",
    "\n",
    "**Рекомендация:**\n",
    "В соответствии с вышеизложенными выводами логично начать разработку скважин в **Регионе №2**, учитывая и низкий риск убытков (1,6%: что ниже необходимого максимума в 2,5%) и возможность получения прибыли довольно большого объема прибыли (~ 400 млн руб. в среднем)."
   ]
  },
  {
   "cell_type": "code",
   "execution_count": null,
   "metadata": {},
   "outputs": [],
   "source": []
  }
 ],
 "metadata": {
  "ExecuteTimeLog": [
   {
    "duration": 377,
    "start_time": "2022-12-10T14:42:41.092Z"
   },
   {
    "duration": 964,
    "start_time": "2022-12-10T14:43:32.009Z"
   },
   {
    "duration": 35,
    "start_time": "2022-12-10T14:44:03.980Z"
   },
   {
    "duration": 7,
    "start_time": "2022-12-10T14:44:27.197Z"
   },
   {
    "duration": 113,
    "start_time": "2022-12-10T14:45:12.058Z"
   },
   {
    "duration": 26,
    "start_time": "2022-12-10T14:45:23.439Z"
   },
   {
    "duration": 16,
    "start_time": "2022-12-10T14:45:30.466Z"
   },
   {
    "duration": 25,
    "start_time": "2022-12-10T14:45:36.988Z"
   },
   {
    "duration": 31,
    "start_time": "2022-12-10T14:45:42.359Z"
   },
   {
    "duration": 47,
    "start_time": "2022-12-10T14:45:59.972Z"
   },
   {
    "duration": 65,
    "start_time": "2022-12-10T14:46:04.597Z"
   },
   {
    "duration": 29,
    "start_time": "2022-12-10T14:47:00.722Z"
   },
   {
    "duration": 41,
    "start_time": "2022-12-10T14:47:19.133Z"
   },
   {
    "duration": 19,
    "start_time": "2022-12-10T14:48:45.873Z"
   },
   {
    "duration": 20,
    "start_time": "2022-12-10T14:48:51.170Z"
   },
   {
    "duration": 8,
    "start_time": "2022-12-10T14:48:59.793Z"
   },
   {
    "duration": 17,
    "start_time": "2022-12-10T14:49:03.472Z"
   },
   {
    "duration": 18,
    "start_time": "2022-12-10T14:49:14.290Z"
   },
   {
    "duration": 23,
    "start_time": "2022-12-10T14:49:16.691Z"
   },
   {
    "duration": 3,
    "start_time": "2022-12-10T14:49:23.691Z"
   },
   {
    "duration": 16,
    "start_time": "2022-12-10T14:49:29.746Z"
   },
   {
    "duration": 5,
    "start_time": "2022-12-10T14:49:30.548Z"
   },
   {
    "duration": 20,
    "start_time": "2022-12-10T14:50:00.794Z"
   },
   {
    "duration": 16,
    "start_time": "2022-12-10T14:50:13.075Z"
   },
   {
    "duration": 694,
    "start_time": "2022-12-10T14:51:09.191Z"
   },
   {
    "duration": 356,
    "start_time": "2022-12-10T14:51:23.595Z"
   },
   {
    "duration": 415,
    "start_time": "2022-12-10T14:51:23.953Z"
   },
   {
    "duration": 35,
    "start_time": "2022-12-10T14:51:24.369Z"
   },
   {
    "duration": 54,
    "start_time": "2022-12-10T14:51:24.405Z"
   },
   {
    "duration": 832,
    "start_time": "2022-12-10T14:51:37.339Z"
   },
   {
    "duration": 391,
    "start_time": "2022-12-10T14:51:42.749Z"
   },
   {
    "duration": 401,
    "start_time": "2022-12-10T14:51:43.142Z"
   },
   {
    "duration": 37,
    "start_time": "2022-12-10T14:51:43.545Z"
   },
   {
    "duration": 62,
    "start_time": "2022-12-10T14:51:43.584Z"
   },
   {
    "duration": 814,
    "start_time": "2022-12-10T14:53:56.097Z"
   },
   {
    "duration": 46,
    "start_time": "2022-12-10T14:54:11.976Z"
   },
   {
    "duration": 12,
    "start_time": "2022-12-10T14:54:14.334Z"
   },
   {
    "duration": 23,
    "start_time": "2022-12-10T14:54:19.070Z"
   },
   {
    "duration": 15,
    "start_time": "2022-12-10T14:54:52.445Z"
   },
   {
    "duration": 43,
    "start_time": "2022-12-10T14:55:08.305Z"
   },
   {
    "duration": 1084,
    "start_time": "2022-12-10T14:55:12.347Z"
   },
   {
    "duration": 382,
    "start_time": "2022-12-10T14:55:13.433Z"
   },
   {
    "duration": 47,
    "start_time": "2022-12-10T14:55:13.817Z"
   },
   {
    "duration": 133,
    "start_time": "2022-12-10T14:55:13.866Z"
   },
   {
    "duration": 62,
    "start_time": "2022-12-10T14:55:14.001Z"
   },
   {
    "duration": 55,
    "start_time": "2022-12-10T14:55:38.065Z"
   },
   {
    "duration": 801,
    "start_time": "2022-12-10T14:55:43.952Z"
   },
   {
    "duration": 1097,
    "start_time": "2022-12-10T14:56:03.551Z"
   },
   {
    "duration": 423,
    "start_time": "2022-12-10T14:56:04.654Z"
   },
   {
    "duration": 57,
    "start_time": "2022-12-10T14:56:05.078Z"
   },
   {
    "duration": 94,
    "start_time": "2022-12-10T14:56:05.143Z"
   },
   {
    "duration": 57,
    "start_time": "2022-12-10T14:56:05.251Z"
   },
   {
    "duration": 796,
    "start_time": "2022-12-10T14:56:15.074Z"
   },
   {
    "duration": 633,
    "start_time": "2022-12-10T14:56:38.956Z"
   },
   {
    "duration": 1061,
    "start_time": "2022-12-10T14:56:43.168Z"
   },
   {
    "duration": 426,
    "start_time": "2022-12-10T14:56:44.234Z"
   },
   {
    "duration": 48,
    "start_time": "2022-12-10T14:56:44.662Z"
   },
   {
    "duration": 116,
    "start_time": "2022-12-10T14:56:44.712Z"
   },
   {
    "duration": 56,
    "start_time": "2022-12-10T14:56:44.830Z"
   },
   {
    "duration": 847,
    "start_time": "2022-12-10T14:56:53.714Z"
   },
   {
    "duration": 1073,
    "start_time": "2022-12-10T14:57:01.963Z"
   },
   {
    "duration": 417,
    "start_time": "2022-12-10T14:57:03.037Z"
   },
   {
    "duration": 36,
    "start_time": "2022-12-10T14:57:03.455Z"
   },
   {
    "duration": 116,
    "start_time": "2022-12-10T14:57:03.493Z"
   },
   {
    "duration": 62,
    "start_time": "2022-12-10T14:57:03.611Z"
   },
   {
    "duration": 1022,
    "start_time": "2022-12-10T14:57:37.578Z"
   },
   {
    "duration": 384,
    "start_time": "2022-12-10T14:57:38.602Z"
   },
   {
    "duration": 42,
    "start_time": "2022-12-10T14:57:38.988Z"
   },
   {
    "duration": 99,
    "start_time": "2022-12-10T14:57:39.034Z"
   },
   {
    "duration": 31,
    "start_time": "2022-12-10T14:57:39.135Z"
   },
   {
    "duration": 16,
    "start_time": "2022-12-10T14:57:46.952Z"
   },
   {
    "duration": 18,
    "start_time": "2022-12-10T14:57:57.438Z"
   },
   {
    "duration": 41,
    "start_time": "2022-12-10T14:58:24.763Z"
   },
   {
    "duration": 39,
    "start_time": "2022-12-10T14:58:30.143Z"
   },
   {
    "duration": 62,
    "start_time": "2022-12-10T14:59:19.983Z"
   },
   {
    "duration": 131,
    "start_time": "2022-12-10T15:00:07.318Z"
   },
   {
    "duration": 15,
    "start_time": "2022-12-10T15:00:12.478Z"
   },
   {
    "duration": 15,
    "start_time": "2022-12-10T15:00:21.451Z"
   },
   {
    "duration": 8,
    "start_time": "2022-12-10T15:01:04.297Z"
   },
   {
    "duration": 5,
    "start_time": "2022-12-10T15:01:12.624Z"
   },
   {
    "duration": 9,
    "start_time": "2022-12-10T15:01:24.375Z"
   },
   {
    "duration": 9,
    "start_time": "2022-12-10T15:01:31.837Z"
   },
   {
    "duration": 13,
    "start_time": "2022-12-10T15:02:18.368Z"
   },
   {
    "duration": 1091,
    "start_time": "2022-12-10T15:02:22.823Z"
   },
   {
    "duration": 401,
    "start_time": "2022-12-10T15:02:23.916Z"
   },
   {
    "duration": 50,
    "start_time": "2022-12-10T15:02:24.318Z"
   },
   {
    "duration": 62,
    "start_time": "2022-12-10T15:02:24.370Z"
   },
   {
    "duration": 45,
    "start_time": "2022-12-10T15:02:24.437Z"
   },
   {
    "duration": 111,
    "start_time": "2022-12-10T15:02:24.484Z"
   },
   {
    "duration": 0,
    "start_time": "2022-12-10T15:02:24.597Z"
   },
   {
    "duration": 63,
    "start_time": "2022-12-10T15:04:07.474Z"
   },
   {
    "duration": 1110,
    "start_time": "2022-12-10T15:04:11.696Z"
   },
   {
    "duration": 416,
    "start_time": "2022-12-10T15:04:12.809Z"
   },
   {
    "duration": 46,
    "start_time": "2022-12-10T15:04:13.226Z"
   },
   {
    "duration": 69,
    "start_time": "2022-12-10T15:04:13.274Z"
   },
   {
    "duration": 147,
    "start_time": "2022-12-10T15:04:13.347Z"
   },
   {
    "duration": 15,
    "start_time": "2022-12-10T15:04:13.495Z"
   },
   {
    "duration": 45,
    "start_time": "2022-12-10T15:04:13.520Z"
   },
   {
    "duration": 109,
    "start_time": "2022-12-10T15:04:58.580Z"
   },
   {
    "duration": 1170,
    "start_time": "2022-12-10T15:05:03.476Z"
   },
   {
    "duration": 446,
    "start_time": "2022-12-10T15:05:04.648Z"
   },
   {
    "duration": 51,
    "start_time": "2022-12-10T15:05:05.095Z"
   },
   {
    "duration": 44,
    "start_time": "2022-12-10T15:05:05.148Z"
   },
   {
    "duration": 102,
    "start_time": "2022-12-10T15:05:05.194Z"
   },
   {
    "duration": 25,
    "start_time": "2022-12-10T15:05:05.298Z"
   },
   {
    "duration": 49,
    "start_time": "2022-12-10T15:05:05.325Z"
   },
   {
    "duration": 10,
    "start_time": "2022-12-10T15:05:25.060Z"
   },
   {
    "duration": 4,
    "start_time": "2022-12-10T15:06:37.855Z"
   },
   {
    "duration": 9,
    "start_time": "2022-12-10T15:08:17.096Z"
   },
   {
    "duration": 12,
    "start_time": "2022-12-10T15:08:46.282Z"
   },
   {
    "duration": 13,
    "start_time": "2022-12-10T15:10:50.883Z"
   },
   {
    "duration": 17,
    "start_time": "2022-12-10T15:11:22.372Z"
   },
   {
    "duration": 26,
    "start_time": "2022-12-10T15:11:51.391Z"
   },
   {
    "duration": 50,
    "start_time": "2022-12-10T15:15:19.250Z"
   },
   {
    "duration": 117,
    "start_time": "2022-12-10T15:17:04.394Z"
   },
   {
    "duration": 10,
    "start_time": "2022-12-10T15:17:18.973Z"
   },
   {
    "duration": 52,
    "start_time": "2022-12-10T15:17:19.977Z"
   },
   {
    "duration": 28,
    "start_time": "2022-12-10T15:18:34.327Z"
   },
   {
    "duration": 11,
    "start_time": "2022-12-10T15:18:59.150Z"
   },
   {
    "duration": 52,
    "start_time": "2022-12-12T03:22:34.920Z"
   },
   {
    "duration": 1019,
    "start_time": "2022-12-12T03:22:39.956Z"
   },
   {
    "duration": 643,
    "start_time": "2022-12-12T03:22:40.978Z"
   },
   {
    "duration": 33,
    "start_time": "2022-12-12T03:22:41.623Z"
   },
   {
    "duration": 46,
    "start_time": "2022-12-12T03:22:41.658Z"
   },
   {
    "duration": 70,
    "start_time": "2022-12-12T03:22:41.706Z"
   },
   {
    "duration": 27,
    "start_time": "2022-12-12T03:22:41.778Z"
   },
   {
    "duration": 106,
    "start_time": "2022-12-12T03:22:41.807Z"
   },
   {
    "duration": 0,
    "start_time": "2022-12-12T03:22:41.915Z"
   },
   {
    "duration": 60,
    "start_time": "2022-12-12T03:22:52.686Z"
   },
   {
    "duration": 36,
    "start_time": "2022-12-12T03:22:54.117Z"
   },
   {
    "duration": 23,
    "start_time": "2022-12-12T03:23:33.471Z"
   },
   {
    "duration": 12,
    "start_time": "2022-12-12T03:23:57.425Z"
   },
   {
    "duration": 48,
    "start_time": "2022-12-12T03:24:00.697Z"
   },
   {
    "duration": 12,
    "start_time": "2022-12-12T03:24:06.919Z"
   },
   {
    "duration": 34,
    "start_time": "2022-12-12T03:24:07.662Z"
   },
   {
    "duration": 17,
    "start_time": "2022-12-12T03:24:08.663Z"
   },
   {
    "duration": 19,
    "start_time": "2022-12-12T03:24:14.935Z"
   },
   {
    "duration": 12,
    "start_time": "2022-12-12T03:26:00.802Z"
   },
   {
    "duration": 3,
    "start_time": "2022-12-12T03:26:05.057Z"
   },
   {
    "duration": 9,
    "start_time": "2022-12-12T03:26:37.050Z"
   },
   {
    "duration": 7,
    "start_time": "2022-12-12T03:26:59.635Z"
   },
   {
    "duration": 3,
    "start_time": "2022-12-12T03:27:05.268Z"
   },
   {
    "duration": 2,
    "start_time": "2022-12-12T03:27:53.380Z"
   },
   {
    "duration": 252,
    "start_time": "2022-12-12T03:28:10.748Z"
   },
   {
    "duration": 627,
    "start_time": "2022-12-12T03:28:18.779Z"
   },
   {
    "duration": 4,
    "start_time": "2022-12-12T03:28:22.548Z"
   },
   {
    "duration": 4,
    "start_time": "2022-12-12T03:28:39.388Z"
   },
   {
    "duration": 543,
    "start_time": "2022-12-12T03:28:39.763Z"
   },
   {
    "duration": 3,
    "start_time": "2022-12-12T03:28:40.309Z"
   },
   {
    "duration": 452,
    "start_time": "2022-12-12T03:31:02.047Z"
   },
   {
    "duration": 478,
    "start_time": "2022-12-12T03:31:49.721Z"
   },
   {
    "duration": 615,
    "start_time": "2022-12-12T03:32:02.001Z"
   },
   {
    "duration": 656,
    "start_time": "2022-12-12T03:32:05.441Z"
   },
   {
    "duration": 414,
    "start_time": "2022-12-12T03:32:41.185Z"
   },
   {
    "duration": 381,
    "start_time": "2022-12-12T03:32:52.122Z"
   },
   {
    "duration": 83,
    "start_time": "2022-12-12T03:35:35.414Z"
   },
   {
    "duration": 589,
    "start_time": "2022-12-12T03:36:34.312Z"
   },
   {
    "duration": 526,
    "start_time": "2022-12-12T03:36:43.574Z"
   },
   {
    "duration": 477,
    "start_time": "2022-12-12T03:36:59.222Z"
   },
   {
    "duration": 477,
    "start_time": "2022-12-12T03:37:10.222Z"
   },
   {
    "duration": 497,
    "start_time": "2022-12-12T03:37:24.102Z"
   },
   {
    "duration": 436,
    "start_time": "2022-12-12T03:37:26.071Z"
   },
   {
    "duration": 239,
    "start_time": "2022-12-12T03:37:43.670Z"
   },
   {
    "duration": 407,
    "start_time": "2022-12-12T03:37:55.392Z"
   },
   {
    "duration": 279,
    "start_time": "2022-12-12T03:38:25.920Z"
   },
   {
    "duration": 3,
    "start_time": "2022-12-12T03:38:30.361Z"
   },
   {
    "duration": 271,
    "start_time": "2022-12-12T03:44:09.828Z"
   },
   {
    "duration": 3,
    "start_time": "2022-12-12T03:45:01.528Z"
   },
   {
    "duration": 10,
    "start_time": "2022-12-12T03:46:06.642Z"
   },
   {
    "duration": 10,
    "start_time": "2022-12-12T03:46:32.666Z"
   },
   {
    "duration": 11,
    "start_time": "2022-12-12T03:46:35.729Z"
   },
   {
    "duration": 10,
    "start_time": "2022-12-12T03:46:37.881Z"
   },
   {
    "duration": 11,
    "start_time": "2022-12-12T03:46:52.915Z"
   },
   {
    "duration": 561,
    "start_time": "2022-12-12T03:47:11.851Z"
   },
   {
    "duration": 10,
    "start_time": "2022-12-12T03:47:51.811Z"
   },
   {
    "duration": 11,
    "start_time": "2022-12-12T03:47:52.145Z"
   },
   {
    "duration": 10,
    "start_time": "2022-12-12T03:47:52.610Z"
   },
   {
    "duration": 9,
    "start_time": "2022-12-12T03:48:17.436Z"
   },
   {
    "duration": 10,
    "start_time": "2022-12-12T03:48:22.565Z"
   },
   {
    "duration": 10,
    "start_time": "2022-12-12T03:48:27.010Z"
   },
   {
    "duration": 12,
    "start_time": "2022-12-12T03:50:01.377Z"
   },
   {
    "duration": 10,
    "start_time": "2022-12-12T03:50:03.853Z"
   },
   {
    "duration": 10,
    "start_time": "2022-12-12T03:50:14.558Z"
   },
   {
    "duration": 10,
    "start_time": "2022-12-12T03:50:25.821Z"
   },
   {
    "duration": 10,
    "start_time": "2022-12-12T03:50:36.751Z"
   },
   {
    "duration": 1039,
    "start_time": "2022-12-12T03:50:46.323Z"
   },
   {
    "duration": 343,
    "start_time": "2022-12-12T03:50:47.364Z"
   },
   {
    "duration": 33,
    "start_time": "2022-12-12T03:50:47.708Z"
   },
   {
    "duration": 65,
    "start_time": "2022-12-12T03:50:47.743Z"
   },
   {
    "duration": 71,
    "start_time": "2022-12-12T03:50:47.810Z"
   },
   {
    "duration": 27,
    "start_time": "2022-12-12T03:50:47.883Z"
   },
   {
    "duration": 14,
    "start_time": "2022-12-12T03:50:47.912Z"
   },
   {
    "duration": 31,
    "start_time": "2022-12-12T03:50:47.932Z"
   },
   {
    "duration": 31,
    "start_time": "2022-12-12T03:50:47.965Z"
   },
   {
    "duration": 103,
    "start_time": "2022-12-12T03:50:47.998Z"
   },
   {
    "duration": 102,
    "start_time": "2022-12-12T03:50:48.103Z"
   },
   {
    "duration": 104,
    "start_time": "2022-12-12T03:50:48.207Z"
   },
   {
    "duration": 1124,
    "start_time": "2022-12-12T03:51:05.747Z"
   },
   {
    "duration": 356,
    "start_time": "2022-12-12T03:51:06.873Z"
   },
   {
    "duration": 32,
    "start_time": "2022-12-12T03:51:07.231Z"
   },
   {
    "duration": 53,
    "start_time": "2022-12-12T03:51:07.265Z"
   },
   {
    "duration": 99,
    "start_time": "2022-12-12T03:51:07.320Z"
   },
   {
    "duration": 16,
    "start_time": "2022-12-12T03:51:07.421Z"
   },
   {
    "duration": 14,
    "start_time": "2022-12-12T03:51:07.439Z"
   },
   {
    "duration": 55,
    "start_time": "2022-12-12T03:51:07.454Z"
   },
   {
    "duration": 86,
    "start_time": "2022-12-12T03:51:07.511Z"
   },
   {
    "duration": 107,
    "start_time": "2022-12-12T03:51:07.600Z"
   },
   {
    "duration": 287,
    "start_time": "2022-12-12T03:51:07.710Z"
   },
   {
    "duration": 49,
    "start_time": "2022-12-13T03:13:40.353Z"
   },
   {
    "duration": 1083,
    "start_time": "2022-12-13T03:13:45.331Z"
   },
   {
    "duration": 741,
    "start_time": "2022-12-13T03:13:46.416Z"
   },
   {
    "duration": 39,
    "start_time": "2022-12-13T03:13:47.158Z"
   },
   {
    "duration": 53,
    "start_time": "2022-12-13T03:13:47.199Z"
   },
   {
    "duration": 90,
    "start_time": "2022-12-13T03:13:47.254Z"
   },
   {
    "duration": 17,
    "start_time": "2022-12-13T03:13:47.345Z"
   },
   {
    "duration": 17,
    "start_time": "2022-12-13T03:13:47.364Z"
   },
   {
    "duration": 46,
    "start_time": "2022-12-13T03:13:47.383Z"
   },
   {
    "duration": 23,
    "start_time": "2022-12-13T03:13:47.431Z"
   },
   {
    "duration": 153,
    "start_time": "2022-12-13T03:13:47.537Z"
   },
   {
    "duration": 194,
    "start_time": "2022-12-13T03:13:47.693Z"
   },
   {
    "duration": 31,
    "start_time": "2022-12-13T03:13:56.615Z"
   },
   {
    "duration": 17,
    "start_time": "2022-12-13T03:14:01.055Z"
   },
   {
    "duration": 47,
    "start_time": "2022-12-13T03:14:09.950Z"
   },
   {
    "duration": 56,
    "start_time": "2022-12-13T03:14:18.641Z"
   },
   {
    "duration": 16,
    "start_time": "2022-12-13T03:14:20.903Z"
   },
   {
    "duration": 14,
    "start_time": "2022-12-13T03:14:28.591Z"
   },
   {
    "duration": 14,
    "start_time": "2022-12-13T03:14:37.223Z"
   },
   {
    "duration": 14,
    "start_time": "2022-12-13T03:14:48.093Z"
   },
   {
    "duration": 14,
    "start_time": "2022-12-13T03:16:11.643Z"
   },
   {
    "duration": 16,
    "start_time": "2022-12-13T03:16:13.417Z"
   },
   {
    "duration": 18,
    "start_time": "2022-12-13T03:16:15.465Z"
   },
   {
    "duration": 13,
    "start_time": "2022-12-13T03:26:26.501Z"
   },
   {
    "duration": 6,
    "start_time": "2022-12-13T03:26:30.568Z"
   },
   {
    "duration": 5,
    "start_time": "2022-12-13T03:26:35.509Z"
   },
   {
    "duration": 6,
    "start_time": "2022-12-13T03:26:37.325Z"
   },
   {
    "duration": 6,
    "start_time": "2022-12-13T03:26:39.477Z"
   },
   {
    "duration": 6,
    "start_time": "2022-12-13T03:26:41.719Z"
   },
   {
    "duration": 6,
    "start_time": "2022-12-13T03:27:04.511Z"
   },
   {
    "duration": 3,
    "start_time": "2022-12-13T03:28:57.785Z"
   },
   {
    "duration": 8,
    "start_time": "2022-12-14T19:14:36.529Z"
   },
   {
    "duration": 41,
    "start_time": "2022-12-14T19:14:55.004Z"
   },
   {
    "duration": 6,
    "start_time": "2022-12-14T19:15:04.801Z"
   },
   {
    "duration": 1031,
    "start_time": "2022-12-14T19:15:16.054Z"
   },
   {
    "duration": 595,
    "start_time": "2022-12-14T19:15:17.087Z"
   },
   {
    "duration": 39,
    "start_time": "2022-12-14T19:15:17.684Z"
   },
   {
    "duration": 43,
    "start_time": "2022-12-14T19:15:17.725Z"
   },
   {
    "duration": 85,
    "start_time": "2022-12-14T19:15:17.771Z"
   },
   {
    "duration": 14,
    "start_time": "2022-12-14T19:15:17.858Z"
   },
   {
    "duration": 12,
    "start_time": "2022-12-14T19:15:17.874Z"
   },
   {
    "duration": 35,
    "start_time": "2022-12-14T19:15:17.888Z"
   },
   {
    "duration": 91,
    "start_time": "2022-12-14T19:15:17.925Z"
   },
   {
    "duration": 107,
    "start_time": "2022-12-14T19:15:18.017Z"
   },
   {
    "duration": 99,
    "start_time": "2022-12-14T19:15:18.127Z"
   },
   {
    "duration": 8,
    "start_time": "2022-12-14T19:15:18.318Z"
   },
   {
    "duration": 4,
    "start_time": "2022-12-14T19:15:45.570Z"
   },
   {
    "duration": 3,
    "start_time": "2022-12-14T19:15:49.610Z"
   },
   {
    "duration": 3,
    "start_time": "2022-12-14T19:16:37.110Z"
   },
   {
    "duration": 3,
    "start_time": "2022-12-14T19:16:42.283Z"
   },
   {
    "duration": 3,
    "start_time": "2022-12-14T19:17:28.542Z"
   },
   {
    "duration": 3,
    "start_time": "2022-12-14T19:17:36.122Z"
   },
   {
    "duration": 45,
    "start_time": "2022-12-14T19:18:09.422Z"
   },
   {
    "duration": 4,
    "start_time": "2022-12-14T19:18:11.950Z"
   },
   {
    "duration": 3,
    "start_time": "2022-12-14T19:18:14.934Z"
   },
   {
    "duration": 3,
    "start_time": "2022-12-14T19:18:20.302Z"
   },
   {
    "duration": 4,
    "start_time": "2022-12-14T19:18:48.053Z"
   },
   {
    "duration": 4,
    "start_time": "2022-12-14T19:19:01.034Z"
   },
   {
    "duration": 4,
    "start_time": "2022-12-14T19:19:04.006Z"
   },
   {
    "duration": 3,
    "start_time": "2022-12-14T19:19:10.677Z"
   },
   {
    "duration": 4,
    "start_time": "2022-12-14T19:19:20.998Z"
   },
   {
    "duration": 3,
    "start_time": "2022-12-14T19:21:35.722Z"
   },
   {
    "duration": 3,
    "start_time": "2022-12-14T19:21:44.922Z"
   },
   {
    "duration": 48,
    "start_time": "2022-12-15T17:19:00.314Z"
   },
   {
    "duration": 1099,
    "start_time": "2022-12-15T17:19:04.173Z"
   },
   {
    "duration": 2216,
    "start_time": "2022-12-15T17:19:05.274Z"
   },
   {
    "duration": 35,
    "start_time": "2022-12-15T17:19:07.491Z"
   },
   {
    "duration": 45,
    "start_time": "2022-12-15T17:19:07.528Z"
   },
   {
    "duration": 69,
    "start_time": "2022-12-15T17:19:07.580Z"
   },
   {
    "duration": 15,
    "start_time": "2022-12-15T17:19:07.651Z"
   },
   {
    "duration": 26,
    "start_time": "2022-12-15T17:19:07.667Z"
   },
   {
    "duration": 35,
    "start_time": "2022-12-15T17:19:07.694Z"
   },
   {
    "duration": 53,
    "start_time": "2022-12-15T17:19:07.731Z"
   },
   {
    "duration": 106,
    "start_time": "2022-12-15T17:19:07.789Z"
   },
   {
    "duration": 192,
    "start_time": "2022-12-15T17:19:07.898Z"
   },
   {
    "duration": 259,
    "start_time": "2022-12-15T17:19:08.096Z"
   },
   {
    "duration": 0,
    "start_time": "2022-12-15T17:19:08.357Z"
   },
   {
    "duration": 4,
    "start_time": "2022-12-15T17:19:24.431Z"
   },
   {
    "duration": 4,
    "start_time": "2022-12-15T17:19:41.061Z"
   },
   {
    "duration": 3,
    "start_time": "2022-12-15T17:19:59.712Z"
   },
   {
    "duration": 3,
    "start_time": "2022-12-15T17:20:03.890Z"
   },
   {
    "duration": 5,
    "start_time": "2022-12-15T17:20:28.913Z"
   },
   {
    "duration": 6,
    "start_time": "2022-12-15T17:21:06.826Z"
   },
   {
    "duration": 6,
    "start_time": "2022-12-15T17:23:39.411Z"
   },
   {
    "duration": 25,
    "start_time": "2022-12-15T17:24:12.565Z"
   },
   {
    "duration": 25,
    "start_time": "2022-12-15T17:24:22.893Z"
   },
   {
    "duration": 23,
    "start_time": "2022-12-15T17:24:32.652Z"
   },
   {
    "duration": 21,
    "start_time": "2022-12-15T17:24:42.741Z"
   },
   {
    "duration": 22,
    "start_time": "2022-12-15T17:24:51.917Z"
   },
   {
    "duration": 23,
    "start_time": "2022-12-15T17:24:58.590Z"
   },
   {
    "duration": 25,
    "start_time": "2022-12-15T17:25:05.157Z"
   },
   {
    "duration": 9,
    "start_time": "2022-12-15T17:25:16.123Z"
   },
   {
    "duration": 8,
    "start_time": "2022-12-15T17:25:18.191Z"
   },
   {
    "duration": 42,
    "start_time": "2022-12-15T17:26:18.742Z"
   },
   {
    "duration": 42,
    "start_time": "2022-12-15T17:26:27.055Z"
   },
   {
    "duration": 37,
    "start_time": "2022-12-15T17:27:23.400Z"
   },
   {
    "duration": 40,
    "start_time": "2022-12-15T17:27:28.698Z"
   },
   {
    "duration": 44,
    "start_time": "2022-12-15T17:27:30.257Z"
   },
   {
    "duration": 38,
    "start_time": "2022-12-15T17:27:32.927Z"
   },
   {
    "duration": 45,
    "start_time": "2022-12-15T17:27:36.848Z"
   },
   {
    "duration": 42,
    "start_time": "2022-12-15T17:27:40.824Z"
   },
   {
    "duration": 38,
    "start_time": "2022-12-15T17:27:43.223Z"
   },
   {
    "duration": 39,
    "start_time": "2022-12-15T17:27:45.297Z"
   },
   {
    "duration": 48,
    "start_time": "2022-12-15T17:27:50.952Z"
   },
   {
    "duration": 55,
    "start_time": "2022-12-15T17:28:20.990Z"
   },
   {
    "duration": 58,
    "start_time": "2022-12-15T17:28:26.981Z"
   },
   {
    "duration": 47,
    "start_time": "2022-12-15T17:28:45.842Z"
   },
   {
    "duration": 87,
    "start_time": "2022-12-15T17:46:05.459Z"
   },
   {
    "duration": 46,
    "start_time": "2022-12-15T17:47:48.373Z"
   },
   {
    "duration": 8,
    "start_time": "2022-12-15T17:48:01.574Z"
   },
   {
    "duration": 98,
    "start_time": "2022-12-15T17:48:04.710Z"
   },
   {
    "duration": 6,
    "start_time": "2022-12-15T17:48:14.049Z"
   },
   {
    "duration": 23,
    "start_time": "2022-12-15T17:48:42.961Z"
   },
   {
    "duration": 4,
    "start_time": "2022-12-15T17:48:49.872Z"
   },
   {
    "duration": 4,
    "start_time": "2022-12-15T17:48:52.070Z"
   },
   {
    "duration": 3,
    "start_time": "2022-12-15T17:49:34.311Z"
   },
   {
    "duration": 5,
    "start_time": "2022-12-15T17:50:35.913Z"
   },
   {
    "duration": 6,
    "start_time": "2022-12-15T17:51:16.658Z"
   },
   {
    "duration": 5,
    "start_time": "2022-12-15T17:51:39.954Z"
   },
   {
    "duration": 3,
    "start_time": "2022-12-15T18:47:38.367Z"
   },
   {
    "duration": 14,
    "start_time": "2022-12-15T18:47:47.261Z"
   },
   {
    "duration": 12,
    "start_time": "2022-12-15T18:48:25.631Z"
   },
   {
    "duration": 11,
    "start_time": "2022-12-15T18:48:34.808Z"
   },
   {
    "duration": 7,
    "start_time": "2022-12-15T18:48:40.594Z"
   },
   {
    "duration": 7,
    "start_time": "2022-12-15T18:48:50.063Z"
   },
   {
    "duration": 8,
    "start_time": "2022-12-15T18:49:11.343Z"
   },
   {
    "duration": 7,
    "start_time": "2022-12-15T18:49:16.296Z"
   },
   {
    "duration": 8,
    "start_time": "2022-12-15T18:51:12.626Z"
   },
   {
    "duration": 8,
    "start_time": "2022-12-15T18:51:54.596Z"
   },
   {
    "duration": 8,
    "start_time": "2022-12-15T18:51:59.394Z"
   },
   {
    "duration": 14,
    "start_time": "2022-12-15T18:52:06.578Z"
   },
   {
    "duration": 8,
    "start_time": "2022-12-15T18:52:20.436Z"
   },
   {
    "duration": 8,
    "start_time": "2022-12-15T18:52:30.651Z"
   },
   {
    "duration": 12,
    "start_time": "2022-12-15T18:55:16.290Z"
   },
   {
    "duration": 13,
    "start_time": "2022-12-15T18:55:32.980Z"
   },
   {
    "duration": 12,
    "start_time": "2022-12-15T18:55:36.605Z"
   },
   {
    "duration": 11,
    "start_time": "2022-12-15T18:55:43.596Z"
   },
   {
    "duration": 12,
    "start_time": "2022-12-15T18:55:49.592Z"
   },
   {
    "duration": 13,
    "start_time": "2022-12-15T18:55:54.296Z"
   },
   {
    "duration": 10,
    "start_time": "2022-12-15T18:55:56.394Z"
   },
   {
    "duration": 19,
    "start_time": "2022-12-15T18:57:09.935Z"
   },
   {
    "duration": 20,
    "start_time": "2022-12-15T18:58:47.956Z"
   },
   {
    "duration": 91,
    "start_time": "2022-12-15T19:01:54.064Z"
   },
   {
    "duration": 97,
    "start_time": "2022-12-15T19:02:17.342Z"
   },
   {
    "duration": 104,
    "start_time": "2022-12-15T19:02:19.349Z"
   },
   {
    "duration": 19,
    "start_time": "2022-12-15T19:02:41.082Z"
   },
   {
    "duration": 14,
    "start_time": "2022-12-15T19:03:48.903Z"
   },
   {
    "duration": 49,
    "start_time": "2022-12-15T19:04:15.056Z"
   },
   {
    "duration": 22,
    "start_time": "2022-12-15T19:04:23.612Z"
   },
   {
    "duration": 22,
    "start_time": "2022-12-15T19:04:58.530Z"
   },
   {
    "duration": 26,
    "start_time": "2022-12-15T19:05:22.273Z"
   },
   {
    "duration": 23,
    "start_time": "2022-12-15T19:05:28.508Z"
   },
   {
    "duration": 21,
    "start_time": "2022-12-15T19:05:33.017Z"
   },
   {
    "duration": 22,
    "start_time": "2022-12-15T19:05:35.232Z"
   },
   {
    "duration": 22,
    "start_time": "2022-12-15T19:05:37.424Z"
   },
   {
    "duration": 36,
    "start_time": "2022-12-15T19:06:27.874Z"
   },
   {
    "duration": 12,
    "start_time": "2022-12-15T19:07:11.910Z"
   },
   {
    "duration": 14612,
    "start_time": "2022-12-15T19:07:58.757Z"
   },
   {
    "duration": 0,
    "start_time": "2022-12-15T19:08:34.445Z"
   },
   {
    "duration": 24,
    "start_time": "2022-12-15T19:08:44.531Z"
   },
   {
    "duration": 9,
    "start_time": "2022-12-15T19:09:00.926Z"
   },
   {
    "duration": 8,
    "start_time": "2022-12-15T19:09:06.107Z"
   },
   {
    "duration": 13,
    "start_time": "2022-12-15T19:09:40.386Z"
   },
   {
    "duration": 9,
    "start_time": "2022-12-15T19:09:54.078Z"
   },
   {
    "duration": 8,
    "start_time": "2022-12-15T19:10:11.608Z"
   },
   {
    "duration": 13,
    "start_time": "2022-12-15T19:10:30.320Z"
   },
   {
    "duration": 13,
    "start_time": "2022-12-15T19:10:41.522Z"
   },
   {
    "duration": 12,
    "start_time": "2022-12-15T19:11:47.110Z"
   },
   {
    "duration": 1166,
    "start_time": "2022-12-16T05:37:22.109Z"
   },
   {
    "duration": 695,
    "start_time": "2022-12-16T05:37:23.277Z"
   },
   {
    "duration": 34,
    "start_time": "2022-12-16T05:37:23.974Z"
   },
   {
    "duration": 51,
    "start_time": "2022-12-16T05:37:24.011Z"
   },
   {
    "duration": 87,
    "start_time": "2022-12-16T05:37:24.064Z"
   },
   {
    "duration": 17,
    "start_time": "2022-12-16T05:37:24.153Z"
   },
   {
    "duration": 23,
    "start_time": "2022-12-16T05:37:24.172Z"
   },
   {
    "duration": 54,
    "start_time": "2022-12-16T05:37:24.197Z"
   },
   {
    "duration": 68,
    "start_time": "2022-12-16T05:37:24.254Z"
   },
   {
    "duration": 107,
    "start_time": "2022-12-16T05:37:24.327Z"
   },
   {
    "duration": 208,
    "start_time": "2022-12-16T05:37:24.438Z"
   },
   {
    "duration": 274,
    "start_time": "2022-12-16T05:37:24.650Z"
   },
   {
    "duration": 0,
    "start_time": "2022-12-16T05:37:24.928Z"
   },
   {
    "duration": 0,
    "start_time": "2022-12-16T05:37:24.929Z"
   },
   {
    "duration": 0,
    "start_time": "2022-12-16T05:37:24.931Z"
   },
   {
    "duration": 3,
    "start_time": "2022-12-16T05:37:41.189Z"
   },
   {
    "duration": 53,
    "start_time": "2022-12-16T05:37:43.005Z"
   },
   {
    "duration": 4,
    "start_time": "2022-12-16T05:37:45.658Z"
   },
   {
    "duration": 15,
    "start_time": "2022-12-16T05:37:46.211Z"
   },
   {
    "duration": 3,
    "start_time": "2022-12-16T05:54:48.087Z"
   },
   {
    "duration": 13,
    "start_time": "2022-12-16T05:54:48.508Z"
   },
   {
    "duration": 44764,
    "start_time": "2022-12-16T05:54:49.476Z"
   },
   {
    "duration": 11,
    "start_time": "2022-12-16T05:56:16.486Z"
   },
   {
    "duration": 4,
    "start_time": "2022-12-16T05:56:17.839Z"
   },
   {
    "duration": 18,
    "start_time": "2022-12-16T05:56:18.075Z"
   },
   {
    "duration": 13372,
    "start_time": "2022-12-16T05:58:19.626Z"
   },
   {
    "duration": 54,
    "start_time": "2022-12-16T06:00:17.570Z"
   },
   {
    "duration": 55,
    "start_time": "2022-12-16T06:00:19.473Z"
   },
   {
    "duration": 4,
    "start_time": "2022-12-16T06:00:46.658Z"
   },
   {
    "duration": 17,
    "start_time": "2022-12-16T06:00:48.348Z"
   },
   {
    "duration": 4986,
    "start_time": "2022-12-16T06:01:25.670Z"
   },
   {
    "duration": 715,
    "start_time": "2022-12-16T06:11:16.043Z"
   },
   {
    "duration": 1884,
    "start_time": "2022-12-16T06:11:57.256Z"
   },
   {
    "duration": 4,
    "start_time": "2022-12-16T06:12:00.063Z"
   },
   {
    "duration": 1838,
    "start_time": "2022-12-16T06:12:02.534Z"
   },
   {
    "duration": 1737,
    "start_time": "2022-12-16T06:12:27.131Z"
   },
   {
    "duration": 1838,
    "start_time": "2022-12-16T06:12:45.011Z"
   },
   {
    "duration": 1108,
    "start_time": "2022-12-16T15:12:00.655Z"
   },
   {
    "duration": 1733,
    "start_time": "2022-12-16T15:12:01.765Z"
   },
   {
    "duration": 35,
    "start_time": "2022-12-16T15:12:03.500Z"
   },
   {
    "duration": 47,
    "start_time": "2022-12-16T15:12:03.537Z"
   },
   {
    "duration": 67,
    "start_time": "2022-12-16T15:12:03.586Z"
   },
   {
    "duration": 27,
    "start_time": "2022-12-16T15:12:03.655Z"
   },
   {
    "duration": 12,
    "start_time": "2022-12-16T15:12:03.683Z"
   },
   {
    "duration": 36,
    "start_time": "2022-12-16T15:12:03.697Z"
   },
   {
    "duration": 48,
    "start_time": "2022-12-16T15:12:03.734Z"
   },
   {
    "duration": 105,
    "start_time": "2022-12-16T15:12:03.786Z"
   },
   {
    "duration": 198,
    "start_time": "2022-12-16T15:12:03.894Z"
   },
   {
    "duration": 88,
    "start_time": "2022-12-16T15:12:04.094Z"
   },
   {
    "duration": 136,
    "start_time": "2022-12-16T15:12:04.186Z"
   },
   {
    "duration": 3,
    "start_time": "2022-12-16T15:12:04.324Z"
   },
   {
    "duration": 24,
    "start_time": "2022-12-16T15:12:04.328Z"
   },
   {
    "duration": 130,
    "start_time": "2022-12-16T15:12:04.353Z"
   },
   {
    "duration": 10,
    "start_time": "2022-12-16T15:12:52.008Z"
   },
   {
    "duration": 1821,
    "start_time": "2022-12-16T15:13:01.979Z"
   },
   {
    "duration": 4,
    "start_time": "2022-12-16T15:16:54.114Z"
   },
   {
    "duration": 13,
    "start_time": "2022-12-16T15:16:55.231Z"
   },
   {
    "duration": 1845,
    "start_time": "2022-12-16T15:17:08.242Z"
   },
   {
    "duration": 10,
    "start_time": "2022-12-16T15:19:37.431Z"
   },
   {
    "duration": 181,
    "start_time": "2022-12-16T15:19:48.468Z"
   },
   {
    "duration": 179,
    "start_time": "2022-12-16T15:21:01.231Z"
   },
   {
    "duration": 10,
    "start_time": "2022-12-16T15:22:25.170Z"
   },
   {
    "duration": 452,
    "start_time": "2022-12-16T15:22:33.559Z"
   },
   {
    "duration": 572,
    "start_time": "2022-12-16T15:27:27.772Z"
   },
   {
    "duration": 3,
    "start_time": "2022-12-16T15:34:23.710Z"
   },
   {
    "duration": 11,
    "start_time": "2022-12-16T15:34:33.847Z"
   },
   {
    "duration": 4,
    "start_time": "2022-12-16T15:34:38.443Z"
   },
   {
    "duration": 43,
    "start_time": "2022-12-16T15:34:39.084Z"
   },
   {
    "duration": 4,
    "start_time": "2022-12-16T15:35:10.397Z"
   },
   {
    "duration": 38,
    "start_time": "2022-12-16T15:35:12.005Z"
   },
   {
    "duration": 3,
    "start_time": "2022-12-16T15:35:14.621Z"
   },
   {
    "duration": 17,
    "start_time": "2022-12-16T15:35:14.772Z"
   },
   {
    "duration": 3,
    "start_time": "2022-12-16T15:35:21.156Z"
   },
   {
    "duration": 16,
    "start_time": "2022-12-16T15:35:21.718Z"
   },
   {
    "duration": 4,
    "start_time": "2022-12-16T15:35:32.949Z"
   },
   {
    "duration": 1086,
    "start_time": "2022-12-16T15:35:33.301Z"
   },
   {
    "duration": 996,
    "start_time": "2022-12-16T15:35:46.349Z"
   },
   {
    "duration": 1118,
    "start_time": "2022-12-16T15:35:52.237Z"
   },
   {
    "duration": 1030,
    "start_time": "2022-12-16T15:36:11.485Z"
   },
   {
    "duration": 1104,
    "start_time": "2022-12-16T15:36:21.651Z"
   },
   {
    "duration": 389,
    "start_time": "2022-12-16T15:36:22.757Z"
   },
   {
    "duration": 33,
    "start_time": "2022-12-16T15:36:23.148Z"
   },
   {
    "duration": 43,
    "start_time": "2022-12-16T15:36:23.183Z"
   },
   {
    "duration": 77,
    "start_time": "2022-12-16T15:36:23.228Z"
   },
   {
    "duration": 16,
    "start_time": "2022-12-16T15:36:23.306Z"
   },
   {
    "duration": 10,
    "start_time": "2022-12-16T15:36:23.323Z"
   },
   {
    "duration": 33,
    "start_time": "2022-12-16T15:36:23.334Z"
   },
   {
    "duration": 22,
    "start_time": "2022-12-16T15:36:23.378Z"
   },
   {
    "duration": 108,
    "start_time": "2022-12-16T15:36:23.479Z"
   },
   {
    "duration": 198,
    "start_time": "2022-12-16T15:36:23.590Z"
   },
   {
    "duration": 191,
    "start_time": "2022-12-16T15:36:23.790Z"
   },
   {
    "duration": 62,
    "start_time": "2022-12-16T15:36:23.983Z"
   },
   {
    "duration": 4,
    "start_time": "2022-12-16T15:36:24.049Z"
   },
   {
    "duration": 151,
    "start_time": "2022-12-16T15:36:24.055Z"
   },
   {
    "duration": 1117,
    "start_time": "2022-12-16T15:37:24.845Z"
   },
   {
    "duration": 1015,
    "start_time": "2022-12-16T15:37:31.430Z"
   },
   {
    "duration": 362,
    "start_time": "2022-12-16T15:37:32.447Z"
   },
   {
    "duration": 42,
    "start_time": "2022-12-16T15:37:32.812Z"
   },
   {
    "duration": 58,
    "start_time": "2022-12-16T15:37:32.856Z"
   },
   {
    "duration": 91,
    "start_time": "2022-12-16T15:37:32.915Z"
   },
   {
    "duration": 20,
    "start_time": "2022-12-16T15:37:33.008Z"
   },
   {
    "duration": 13,
    "start_time": "2022-12-16T15:37:33.029Z"
   },
   {
    "duration": 45,
    "start_time": "2022-12-16T15:37:33.043Z"
   },
   {
    "duration": 19,
    "start_time": "2022-12-16T15:37:33.091Z"
   },
   {
    "duration": 108,
    "start_time": "2022-12-16T15:37:33.178Z"
   },
   {
    "duration": 194,
    "start_time": "2022-12-16T15:37:33.289Z"
   },
   {
    "duration": 94,
    "start_time": "2022-12-16T15:37:33.486Z"
   },
   {
    "duration": 128,
    "start_time": "2022-12-16T15:37:33.585Z"
   },
   {
    "duration": 4,
    "start_time": "2022-12-16T15:37:33.715Z"
   },
   {
    "duration": 1169,
    "start_time": "2022-12-16T15:37:33.721Z"
   },
   {
    "duration": 4,
    "start_time": "2022-12-16T15:38:27.881Z"
   },
   {
    "duration": 4,
    "start_time": "2022-12-16T15:38:29.471Z"
   },
   {
    "duration": 1062,
    "start_time": "2022-12-16T15:38:30.246Z"
   },
   {
    "duration": 1049,
    "start_time": "2022-12-16T15:38:41.719Z"
   },
   {
    "duration": 1046,
    "start_time": "2022-12-16T15:38:55.969Z"
   },
   {
    "duration": 3,
    "start_time": "2022-12-16T15:39:09.437Z"
   },
   {
    "duration": 2181,
    "start_time": "2022-12-16T15:39:09.605Z"
   },
   {
    "duration": 100,
    "start_time": "2022-12-16T15:39:58.302Z"
   },
   {
    "duration": 17,
    "start_time": "2022-12-16T15:40:52.228Z"
   },
   {
    "duration": 18,
    "start_time": "2022-12-16T15:40:57.827Z"
   },
   {
    "duration": 2218,
    "start_time": "2022-12-16T15:41:24.005Z"
   },
   {
    "duration": 3,
    "start_time": "2022-12-16T15:41:35.226Z"
   },
   {
    "duration": 1056,
    "start_time": "2022-12-16T15:41:35.774Z"
   },
   {
    "duration": 3248,
    "start_time": "2022-12-16T15:42:06.372Z"
   },
   {
    "duration": 3495,
    "start_time": "2022-12-16T15:42:41.441Z"
   },
   {
    "duration": 3275,
    "start_time": "2022-12-16T15:58:03.374Z"
   },
   {
    "duration": 8,
    "start_time": "2022-12-16T15:58:20.798Z"
   },
   {
    "duration": 104,
    "start_time": "2022-12-16T15:58:24.742Z"
   },
   {
    "duration": 3254,
    "start_time": "2022-12-16T15:58:32.567Z"
   },
   {
    "duration": 3546,
    "start_time": "2022-12-16T16:03:51.781Z"
   },
   {
    "duration": 3245,
    "start_time": "2022-12-16T16:04:36.325Z"
   },
   {
    "duration": 3450,
    "start_time": "2022-12-16T16:04:50.135Z"
   },
   {
    "duration": 3212,
    "start_time": "2022-12-16T16:05:03.214Z"
   },
   {
    "duration": 1061,
    "start_time": "2022-12-16T16:05:21.177Z"
   },
   {
    "duration": 3136,
    "start_time": "2022-12-16T16:05:23.902Z"
   },
   {
    "duration": 3220,
    "start_time": "2022-12-16T16:05:29.111Z"
   },
   {
    "duration": 3283,
    "start_time": "2022-12-16T16:09:11.068Z"
   },
   {
    "duration": 3286,
    "start_time": "2022-12-16T16:09:52.205Z"
   },
   {
    "duration": 3338,
    "start_time": "2022-12-16T16:10:04.609Z"
   },
   {
    "duration": 3221,
    "start_time": "2022-12-16T16:12:24.893Z"
   },
   {
    "duration": 3254,
    "start_time": "2022-12-16T16:12:53.990Z"
   },
   {
    "duration": 1131,
    "start_time": "2022-12-16T16:13:03.752Z"
   },
   {
    "duration": 393,
    "start_time": "2022-12-16T16:13:04.884Z"
   },
   {
    "duration": 36,
    "start_time": "2022-12-16T16:13:05.279Z"
   },
   {
    "duration": 63,
    "start_time": "2022-12-16T16:13:05.317Z"
   },
   {
    "duration": 74,
    "start_time": "2022-12-16T16:13:05.382Z"
   },
   {
    "duration": 27,
    "start_time": "2022-12-16T16:13:05.457Z"
   },
   {
    "duration": 13,
    "start_time": "2022-12-16T16:13:05.486Z"
   },
   {
    "duration": 34,
    "start_time": "2022-12-16T16:13:05.500Z"
   },
   {
    "duration": 46,
    "start_time": "2022-12-16T16:13:05.536Z"
   },
   {
    "duration": 104,
    "start_time": "2022-12-16T16:13:05.584Z"
   },
   {
    "duration": 191,
    "start_time": "2022-12-16T16:13:05.690Z"
   },
   {
    "duration": 104,
    "start_time": "2022-12-16T16:13:05.883Z"
   },
   {
    "duration": 134,
    "start_time": "2022-12-16T16:13:05.989Z"
   },
   {
    "duration": 3,
    "start_time": "2022-12-16T16:13:06.125Z"
   },
   {
    "duration": 3159,
    "start_time": "2022-12-16T16:13:06.129Z"
   },
   {
    "duration": 3192,
    "start_time": "2022-12-16T16:13:21.661Z"
   },
   {
    "duration": 4213,
    "start_time": "2022-12-17T16:53:48.656Z"
   },
   {
    "duration": 2418,
    "start_time": "2022-12-17T16:54:03.812Z"
   },
   {
    "duration": 1178,
    "start_time": "2022-12-17T16:54:06.233Z"
   },
   {
    "duration": 743,
    "start_time": "2022-12-17T16:54:07.416Z"
   },
   {
    "duration": 39,
    "start_time": "2022-12-17T16:54:08.161Z"
   },
   {
    "duration": 65,
    "start_time": "2022-12-17T16:54:08.201Z"
   },
   {
    "duration": 86,
    "start_time": "2022-12-17T16:54:08.268Z"
   },
   {
    "duration": 17,
    "start_time": "2022-12-17T16:54:08.356Z"
   },
   {
    "duration": 17,
    "start_time": "2022-12-17T16:54:08.375Z"
   },
   {
    "duration": 42,
    "start_time": "2022-12-17T16:54:08.393Z"
   },
   {
    "duration": 79,
    "start_time": "2022-12-17T16:54:08.438Z"
   },
   {
    "duration": 128,
    "start_time": "2022-12-17T16:54:08.520Z"
   },
   {
    "duration": 78,
    "start_time": "2022-12-17T16:54:08.654Z"
   },
   {
    "duration": 185,
    "start_time": "2022-12-17T16:54:08.739Z"
   },
   {
    "duration": 64,
    "start_time": "2022-12-17T16:54:08.927Z"
   },
   {
    "duration": 4,
    "start_time": "2022-12-17T16:54:08.992Z"
   },
   {
    "duration": 3912,
    "start_time": "2022-12-17T16:54:08.998Z"
   },
   {
    "duration": 43,
    "start_time": "2022-12-17T16:54:12.912Z"
   },
   {
    "duration": 8,
    "start_time": "2022-12-17T16:54:25.616Z"
   },
   {
    "duration": 158,
    "start_time": "2022-12-17T16:54:27.939Z"
   },
   {
    "duration": 250,
    "start_time": "2022-12-17T16:54:34.349Z"
   },
   {
    "duration": 187,
    "start_time": "2022-12-17T16:54:42.511Z"
   },
   {
    "duration": 44,
    "start_time": "2022-12-17T16:54:51.428Z"
   },
   {
    "duration": 3,
    "start_time": "2022-12-17T16:54:51.474Z"
   },
   {
    "duration": 1372,
    "start_time": "2022-12-17T16:54:51.479Z"
   },
   {
    "duration": 591,
    "start_time": "2022-12-17T16:54:52.853Z"
   },
   {
    "duration": 250,
    "start_time": "2022-12-17T16:54:53.447Z"
   },
   {
    "duration": 205,
    "start_time": "2022-12-17T16:54:53.698Z"
   },
   {
    "duration": 257,
    "start_time": "2022-12-17T16:54:53.904Z"
   },
   {
    "duration": 172,
    "start_time": "2022-12-17T16:54:54.163Z"
   },
   {
    "duration": 152,
    "start_time": "2022-12-17T16:54:54.337Z"
   },
   {
    "duration": 187,
    "start_time": "2022-12-17T16:54:54.491Z"
   },
   {
    "duration": 269,
    "start_time": "2022-12-17T16:54:54.679Z"
   },
   {
    "duration": 274,
    "start_time": "2022-12-17T16:54:54.949Z"
   },
   {
    "duration": 294,
    "start_time": "2022-12-17T16:54:55.225Z"
   },
   {
    "duration": 166,
    "start_time": "2022-12-17T16:54:55.522Z"
   },
   {
    "duration": 208,
    "start_time": "2022-12-17T16:54:55.690Z"
   },
   {
    "duration": 181,
    "start_time": "2022-12-17T16:54:55.900Z"
   },
   {
    "duration": 4123,
    "start_time": "2022-12-17T16:54:56.083Z"
   },
   {
    "duration": 6,
    "start_time": "2022-12-17T16:55:22.460Z"
   },
   {
    "duration": 172,
    "start_time": "2022-12-17T16:55:22.715Z"
   },
   {
    "duration": 3,
    "start_time": "2022-12-17T16:55:27.172Z"
   },
   {
    "duration": 72,
    "start_time": "2022-12-17T16:55:44.102Z"
   },
   {
    "duration": 27,
    "start_time": "2022-12-17T16:55:47.533Z"
   },
   {
    "duration": 4,
    "start_time": "2022-12-17T16:56:57.425Z"
   },
   {
    "duration": 2453,
    "start_time": "2022-12-17T16:57:07.197Z"
   },
   {
    "duration": 3,
    "start_time": "2022-12-17T16:57:17.902Z"
   },
   {
    "duration": 10,
    "start_time": "2022-12-17T16:57:18.928Z"
   },
   {
    "duration": 20,
    "start_time": "2022-12-17T16:57:23.813Z"
   },
   {
    "duration": 228,
    "start_time": "2022-12-17T16:57:28.546Z"
   },
   {
    "duration": 6,
    "start_time": "2022-12-17T16:57:34.357Z"
   },
   {
    "duration": 11,
    "start_time": "2022-12-17T16:57:39.336Z"
   },
   {
    "duration": 7,
    "start_time": "2022-12-17T16:57:43.470Z"
   },
   {
    "duration": 188,
    "start_time": "2022-12-17T16:57:50.592Z"
   },
   {
    "duration": 340,
    "start_time": "2022-12-17T17:03:54.841Z"
   },
   {
    "duration": 210,
    "start_time": "2022-12-17T17:04:13.792Z"
   },
   {
    "duration": 1128,
    "start_time": "2022-12-17T17:04:18.778Z"
   },
   {
    "duration": 441,
    "start_time": "2022-12-17T17:04:19.908Z"
   },
   {
    "duration": 35,
    "start_time": "2022-12-17T17:04:20.350Z"
   },
   {
    "duration": 66,
    "start_time": "2022-12-17T17:04:20.387Z"
   },
   {
    "duration": 85,
    "start_time": "2022-12-17T17:04:20.455Z"
   },
   {
    "duration": 88,
    "start_time": "2022-12-17T17:04:20.542Z"
   },
   {
    "duration": 18,
    "start_time": "2022-12-17T17:04:20.638Z"
   },
   {
    "duration": 10,
    "start_time": "2022-12-17T17:04:20.658Z"
   },
   {
    "duration": 32,
    "start_time": "2022-12-17T17:04:20.670Z"
   },
   {
    "duration": 115,
    "start_time": "2022-12-17T17:04:20.705Z"
   },
   {
    "duration": 104,
    "start_time": "2022-12-17T17:04:20.841Z"
   },
   {
    "duration": 191,
    "start_time": "2022-12-17T17:04:20.949Z"
   },
   {
    "duration": 201,
    "start_time": "2022-12-17T17:04:21.146Z"
   },
   {
    "duration": 49,
    "start_time": "2022-12-17T17:04:21.349Z"
   },
   {
    "duration": 5,
    "start_time": "2022-12-17T17:04:21.400Z"
   },
   {
    "duration": 3732,
    "start_time": "2022-12-17T17:04:21.406Z"
   },
   {
    "duration": 1059,
    "start_time": "2022-12-17T17:04:41.987Z"
   },
   {
    "duration": 488,
    "start_time": "2022-12-17T17:04:43.048Z"
   },
   {
    "duration": 39,
    "start_time": "2022-12-17T17:04:43.537Z"
   },
   {
    "duration": 72,
    "start_time": "2022-12-17T17:04:43.578Z"
   },
   {
    "duration": 90,
    "start_time": "2022-12-17T17:04:43.652Z"
   },
   {
    "duration": 48,
    "start_time": "2022-12-17T17:04:43.744Z"
   },
   {
    "duration": 11,
    "start_time": "2022-12-17T17:04:43.793Z"
   },
   {
    "duration": 16,
    "start_time": "2022-12-17T17:04:43.806Z"
   },
   {
    "duration": 137,
    "start_time": "2022-12-17T17:04:43.823Z"
   },
   {
    "duration": 0,
    "start_time": "2022-12-17T17:04:43.963Z"
   },
   {
    "duration": 0,
    "start_time": "2022-12-17T17:04:43.964Z"
   },
   {
    "duration": 0,
    "start_time": "2022-12-17T17:04:43.965Z"
   },
   {
    "duration": 0,
    "start_time": "2022-12-17T17:04:43.966Z"
   },
   {
    "duration": 0,
    "start_time": "2022-12-17T17:04:43.968Z"
   },
   {
    "duration": 0,
    "start_time": "2022-12-17T17:04:43.970Z"
   },
   {
    "duration": 0,
    "start_time": "2022-12-17T17:04:43.971Z"
   },
   {
    "duration": 1103,
    "start_time": "2022-12-17T17:05:05.668Z"
   },
   {
    "duration": 416,
    "start_time": "2022-12-17T17:05:06.772Z"
   },
   {
    "duration": 52,
    "start_time": "2022-12-17T17:05:07.190Z"
   },
   {
    "duration": 44,
    "start_time": "2022-12-17T17:05:07.244Z"
   },
   {
    "duration": 679,
    "start_time": "2022-12-17T17:05:07.290Z"
   },
   {
    "duration": 0,
    "start_time": "2022-12-17T17:05:07.971Z"
   },
   {
    "duration": 0,
    "start_time": "2022-12-17T17:05:07.972Z"
   },
   {
    "duration": 0,
    "start_time": "2022-12-17T17:05:07.973Z"
   },
   {
    "duration": 0,
    "start_time": "2022-12-17T17:05:07.974Z"
   },
   {
    "duration": 0,
    "start_time": "2022-12-17T17:05:07.975Z"
   },
   {
    "duration": 0,
    "start_time": "2022-12-17T17:05:07.976Z"
   },
   {
    "duration": 0,
    "start_time": "2022-12-17T17:05:07.977Z"
   },
   {
    "duration": 0,
    "start_time": "2022-12-17T17:05:07.979Z"
   },
   {
    "duration": 0,
    "start_time": "2022-12-17T17:05:07.980Z"
   },
   {
    "duration": 0,
    "start_time": "2022-12-17T17:05:07.980Z"
   },
   {
    "duration": 0,
    "start_time": "2022-12-17T17:05:07.982Z"
   },
   {
    "duration": 258,
    "start_time": "2022-12-17T17:05:23.097Z"
   },
   {
    "duration": 21,
    "start_time": "2022-12-17T17:05:37.346Z"
   },
   {
    "duration": 30,
    "start_time": "2022-12-17T17:05:43.730Z"
   },
   {
    "duration": 16,
    "start_time": "2022-12-17T17:05:53.184Z"
   },
   {
    "duration": 30,
    "start_time": "2022-12-17T17:05:56.926Z"
   },
   {
    "duration": 30,
    "start_time": "2022-12-17T17:06:35.940Z"
   },
   {
    "duration": 26,
    "start_time": "2022-12-17T17:06:43.540Z"
   },
   {
    "duration": 8,
    "start_time": "2022-12-17T17:06:52.952Z"
   },
   {
    "duration": 20,
    "start_time": "2022-12-17T17:07:34.308Z"
   },
   {
    "duration": 37,
    "start_time": "2022-12-17T17:07:46.147Z"
   },
   {
    "duration": 16,
    "start_time": "2022-12-17T17:07:55.292Z"
   },
   {
    "duration": 35,
    "start_time": "2022-12-17T17:11:14.854Z"
   },
   {
    "duration": 88,
    "start_time": "2022-12-17T17:11:27.439Z"
   },
   {
    "duration": 99,
    "start_time": "2022-12-17T17:11:46.591Z"
   },
   {
    "duration": 91,
    "start_time": "2022-12-17T17:12:11.352Z"
   },
   {
    "duration": 99,
    "start_time": "2022-12-17T17:12:20.904Z"
   },
   {
    "duration": 10,
    "start_time": "2022-12-17T17:13:33.035Z"
   },
   {
    "duration": 9,
    "start_time": "2022-12-17T17:13:47.402Z"
   },
   {
    "duration": 9,
    "start_time": "2022-12-17T17:14:07.555Z"
   },
   {
    "duration": 915,
    "start_time": "2022-12-17T17:14:39.675Z"
   },
   {
    "duration": 13,
    "start_time": "2022-12-17T17:14:52.453Z"
   },
   {
    "duration": 19,
    "start_time": "2022-12-17T17:16:00.340Z"
   },
   {
    "duration": 28,
    "start_time": "2022-12-17T17:16:15.918Z"
   },
   {
    "duration": 19,
    "start_time": "2022-12-17T17:16:40.853Z"
   },
   {
    "duration": 22,
    "start_time": "2022-12-17T17:18:33.441Z"
   },
   {
    "duration": 21,
    "start_time": "2022-12-17T17:19:21.289Z"
   },
   {
    "duration": 9,
    "start_time": "2022-12-17T17:27:19.193Z"
   },
   {
    "duration": 14,
    "start_time": "2022-12-17T17:27:23.900Z"
   },
   {
    "duration": 33,
    "start_time": "2022-12-17T17:27:44.147Z"
   },
   {
    "duration": 35,
    "start_time": "2022-12-17T17:27:55.748Z"
   },
   {
    "duration": 35,
    "start_time": "2022-12-17T17:28:02.843Z"
   },
   {
    "duration": 43,
    "start_time": "2022-12-17T17:28:40.891Z"
   },
   {
    "duration": 28,
    "start_time": "2022-12-17T17:29:34.676Z"
   },
   {
    "duration": 38,
    "start_time": "2022-12-17T17:29:49.822Z"
   },
   {
    "duration": 34,
    "start_time": "2022-12-17T17:30:00.529Z"
   },
   {
    "duration": 3,
    "start_time": "2022-12-17T17:43:59.705Z"
   },
   {
    "duration": 8,
    "start_time": "2022-12-17T17:45:00.378Z"
   },
   {
    "duration": 15,
    "start_time": "2022-12-17T17:45:06.627Z"
   },
   {
    "duration": 1063,
    "start_time": "2022-12-17T17:45:30.666Z"
   },
   {
    "duration": 438,
    "start_time": "2022-12-17T17:45:31.732Z"
   },
   {
    "duration": 39,
    "start_time": "2022-12-17T17:45:32.172Z"
   },
   {
    "duration": 4,
    "start_time": "2022-12-17T17:45:32.218Z"
   },
   {
    "duration": 51,
    "start_time": "2022-12-17T17:45:32.224Z"
   },
   {
    "duration": 105,
    "start_time": "2022-12-17T17:45:32.276Z"
   },
   {
    "duration": 33,
    "start_time": "2022-12-17T17:45:32.382Z"
   },
   {
    "duration": 25,
    "start_time": "2022-12-17T17:45:32.417Z"
   },
   {
    "duration": 40,
    "start_time": "2022-12-17T17:45:32.449Z"
   },
   {
    "duration": 3,
    "start_time": "2022-12-17T17:45:32.492Z"
   },
   {
    "duration": 137,
    "start_time": "2022-12-17T17:45:32.497Z"
   },
   {
    "duration": 0,
    "start_time": "2022-12-17T17:45:32.640Z"
   },
   {
    "duration": 0,
    "start_time": "2022-12-17T17:45:32.641Z"
   },
   {
    "duration": 0,
    "start_time": "2022-12-17T17:45:32.642Z"
   },
   {
    "duration": 0,
    "start_time": "2022-12-17T17:45:32.643Z"
   },
   {
    "duration": 0,
    "start_time": "2022-12-17T17:45:32.644Z"
   },
   {
    "duration": 0,
    "start_time": "2022-12-17T17:45:32.646Z"
   },
   {
    "duration": 0,
    "start_time": "2022-12-17T17:45:32.647Z"
   },
   {
    "duration": 20,
    "start_time": "2022-12-17T17:46:56.173Z"
   },
   {
    "duration": 4,
    "start_time": "2022-12-17T17:47:22.366Z"
   },
   {
    "duration": 140,
    "start_time": "2022-12-17T17:47:23.884Z"
   },
   {
    "duration": 7,
    "start_time": "2022-12-17T17:47:48.931Z"
   },
   {
    "duration": 60,
    "start_time": "2022-12-17T17:47:49.461Z"
   },
   {
    "duration": 4,
    "start_time": "2022-12-17T17:47:55.470Z"
   },
   {
    "duration": 13,
    "start_time": "2022-12-17T17:47:56.341Z"
   },
   {
    "duration": 4,
    "start_time": "2022-12-17T17:51:10.897Z"
   },
   {
    "duration": 153,
    "start_time": "2022-12-17T17:51:12.066Z"
   },
   {
    "duration": 166,
    "start_time": "2022-12-17T17:51:23.578Z"
   },
   {
    "duration": 10,
    "start_time": "2022-12-17T17:53:29.344Z"
   },
   {
    "duration": 4,
    "start_time": "2022-12-17T17:53:32.001Z"
   },
   {
    "duration": 40,
    "start_time": "2022-12-17T17:53:32.155Z"
   },
   {
    "duration": 3,
    "start_time": "2022-12-17T17:56:05.354Z"
   },
   {
    "duration": 6,
    "start_time": "2022-12-17T17:56:21.243Z"
   },
   {
    "duration": 4,
    "start_time": "2022-12-17T17:57:37.153Z"
   },
   {
    "duration": 3,
    "start_time": "2022-12-17T17:57:39.649Z"
   },
   {
    "duration": 5,
    "start_time": "2022-12-17T17:58:27.235Z"
   },
   {
    "duration": 4,
    "start_time": "2022-12-17T18:00:47.744Z"
   },
   {
    "duration": 4,
    "start_time": "2022-12-17T18:00:52.310Z"
   },
   {
    "duration": 4,
    "start_time": "2022-12-17T18:01:00.103Z"
   },
   {
    "duration": 9,
    "start_time": "2022-12-17T18:01:44.127Z"
   },
   {
    "duration": 2,
    "start_time": "2022-12-17T18:14:18.576Z"
   },
   {
    "duration": 17,
    "start_time": "2022-12-17T18:16:54.081Z"
   },
   {
    "duration": 17,
    "start_time": "2022-12-17T18:17:09.932Z"
   },
   {
    "duration": 22,
    "start_time": "2022-12-17T18:17:31.035Z"
   },
   {
    "duration": 21,
    "start_time": "2022-12-17T18:17:41.163Z"
   },
   {
    "duration": 16,
    "start_time": "2022-12-17T18:17:58.275Z"
   },
   {
    "duration": 15,
    "start_time": "2022-12-17T18:18:00.283Z"
   },
   {
    "duration": 14,
    "start_time": "2022-12-17T18:18:02.772Z"
   },
   {
    "duration": 16,
    "start_time": "2022-12-17T18:18:06.594Z"
   },
   {
    "duration": 14,
    "start_time": "2022-12-17T18:18:09.003Z"
   },
   {
    "duration": 16,
    "start_time": "2022-12-17T18:18:12.580Z"
   },
   {
    "duration": 15,
    "start_time": "2022-12-17T18:18:14.830Z"
   },
   {
    "duration": 15,
    "start_time": "2022-12-17T18:18:17.844Z"
   },
   {
    "duration": 1127,
    "start_time": "2022-12-17T18:20:14.390Z"
   },
   {
    "duration": 433,
    "start_time": "2022-12-17T18:20:15.521Z"
   },
   {
    "duration": 35,
    "start_time": "2022-12-17T18:20:15.956Z"
   },
   {
    "duration": 2,
    "start_time": "2022-12-17T18:20:15.993Z"
   },
   {
    "duration": 34,
    "start_time": "2022-12-17T18:20:15.996Z"
   },
   {
    "duration": 102,
    "start_time": "2022-12-17T18:20:16.032Z"
   },
   {
    "duration": 33,
    "start_time": "2022-12-17T18:20:16.136Z"
   },
   {
    "duration": 3,
    "start_time": "2022-12-17T18:20:16.170Z"
   },
   {
    "duration": 11,
    "start_time": "2022-12-17T18:20:16.175Z"
   },
   {
    "duration": 7,
    "start_time": "2022-12-17T18:20:16.188Z"
   },
   {
    "duration": 53,
    "start_time": "2022-12-17T18:20:16.196Z"
   },
   {
    "duration": 4,
    "start_time": "2022-12-17T18:20:16.251Z"
   },
   {
    "duration": 165,
    "start_time": "2022-12-17T18:20:16.256Z"
   },
   {
    "duration": 182,
    "start_time": "2022-12-17T18:20:16.426Z"
   },
   {
    "duration": 0,
    "start_time": "2022-12-17T18:20:16.609Z"
   },
   {
    "duration": 0,
    "start_time": "2022-12-17T18:20:16.615Z"
   },
   {
    "duration": 0,
    "start_time": "2022-12-17T18:20:16.616Z"
   },
   {
    "duration": 4,
    "start_time": "2022-12-17T18:20:34.876Z"
   },
   {
    "duration": 20,
    "start_time": "2022-12-17T18:20:38.177Z"
   },
   {
    "duration": 4,
    "start_time": "2022-12-17T18:25:21.469Z"
   },
   {
    "duration": 14,
    "start_time": "2022-12-17T18:26:13.635Z"
   },
   {
    "duration": 14,
    "start_time": "2022-12-17T18:27:00.062Z"
   },
   {
    "duration": 222,
    "start_time": "2022-12-17T18:27:36.111Z"
   },
   {
    "duration": 20,
    "start_time": "2022-12-17T18:27:39.719Z"
   },
   {
    "duration": 22,
    "start_time": "2022-12-17T18:27:49.734Z"
   },
   {
    "duration": 50,
    "start_time": "2022-12-18T04:31:12.513Z"
   },
   {
    "duration": 1082,
    "start_time": "2022-12-18T04:31:16.050Z"
   },
   {
    "duration": 682,
    "start_time": "2022-12-18T04:31:17.134Z"
   },
   {
    "duration": 35,
    "start_time": "2022-12-18T04:31:17.817Z"
   },
   {
    "duration": 3,
    "start_time": "2022-12-18T04:31:17.854Z"
   },
   {
    "duration": 23,
    "start_time": "2022-12-18T04:31:17.858Z"
   },
   {
    "duration": 112,
    "start_time": "2022-12-18T04:31:17.883Z"
   },
   {
    "duration": 36,
    "start_time": "2022-12-18T04:31:17.997Z"
   },
   {
    "duration": 3,
    "start_time": "2022-12-18T04:31:18.034Z"
   },
   {
    "duration": 12,
    "start_time": "2022-12-18T04:31:18.038Z"
   },
   {
    "duration": 9,
    "start_time": "2022-12-18T04:31:18.052Z"
   },
   {
    "duration": 55,
    "start_time": "2022-12-18T04:31:18.062Z"
   },
   {
    "duration": 3,
    "start_time": "2022-12-18T04:31:18.119Z"
   },
   {
    "duration": 197,
    "start_time": "2022-12-18T04:31:18.124Z"
   },
   {
    "duration": 4,
    "start_time": "2022-12-18T04:31:18.323Z"
   },
   {
    "duration": 117,
    "start_time": "2022-12-18T04:31:18.416Z"
   },
   {
    "duration": 3,
    "start_time": "2022-12-18T04:31:18.535Z"
   },
   {
    "duration": 118,
    "start_time": "2022-12-18T04:31:18.539Z"
   },
   {
    "duration": 3,
    "start_time": "2022-12-18T04:31:40.048Z"
   },
   {
    "duration": 19,
    "start_time": "2022-12-18T04:31:42.335Z"
   },
   {
    "duration": 4,
    "start_time": "2022-12-18T04:31:52.127Z"
   },
   {
    "duration": 3383,
    "start_time": "2022-12-18T04:31:53.800Z"
   },
   {
    "duration": 4,
    "start_time": "2022-12-18T04:33:59.273Z"
   },
   {
    "duration": 57,
    "start_time": "2022-12-18T04:34:00.265Z"
   },
   {
    "duration": 4,
    "start_time": "2022-12-18T04:34:24.363Z"
   },
   {
    "duration": 156,
    "start_time": "2022-12-18T04:34:25.370Z"
   },
   {
    "duration": 4,
    "start_time": "2022-12-18T04:34:29.764Z"
   },
   {
    "duration": 177,
    "start_time": "2022-12-18T04:34:30.441Z"
   },
   {
    "duration": 4,
    "start_time": "2022-12-18T04:36:27.365Z"
   },
   {
    "duration": 3275,
    "start_time": "2022-12-18T04:36:27.965Z"
   },
   {
    "duration": 54,
    "start_time": "2022-12-18T04:39:12.934Z"
   },
   {
    "duration": 3287,
    "start_time": "2022-12-18T04:39:16.647Z"
   },
   {
    "duration": 3255,
    "start_time": "2022-12-18T04:39:26.305Z"
   },
   {
    "duration": 65,
    "start_time": "2022-12-18T04:40:43.186Z"
   },
   {
    "duration": 3170,
    "start_time": "2022-12-18T04:40:46.106Z"
   },
   {
    "duration": 1112,
    "start_time": "2022-12-18T04:41:07.859Z"
   },
   {
    "duration": 1067,
    "start_time": "2022-12-18T04:41:16.899Z"
   },
   {
    "duration": 1061,
    "start_time": "2022-12-18T04:41:22.980Z"
   },
   {
    "duration": 1051,
    "start_time": "2022-12-18T04:41:26.819Z"
   },
   {
    "duration": 3064,
    "start_time": "2022-12-18T04:41:36.428Z"
   },
   {
    "duration": 3168,
    "start_time": "2022-12-18T04:41:45.219Z"
   },
   {
    "duration": 3257,
    "start_time": "2022-12-18T04:42:14.070Z"
   },
   {
    "duration": 1101,
    "start_time": "2022-12-18T04:43:50.845Z"
   },
   {
    "duration": 3199,
    "start_time": "2022-12-18T04:43:59.822Z"
   },
   {
    "duration": 65,
    "start_time": "2022-12-18T04:44:52.033Z"
   },
   {
    "duration": 3287,
    "start_time": "2022-12-18T04:45:00.552Z"
   },
   {
    "duration": 3236,
    "start_time": "2022-12-18T04:45:40.207Z"
   },
   {
    "duration": 3268,
    "start_time": "2022-12-18T04:45:51.424Z"
   },
   {
    "duration": 3158,
    "start_time": "2022-12-18T04:46:22.510Z"
   },
   {
    "duration": 3277,
    "start_time": "2022-12-18T04:46:29.816Z"
   },
   {
    "duration": 3265,
    "start_time": "2022-12-18T04:49:11.163Z"
   },
   {
    "duration": 9,
    "start_time": "2022-12-18T04:53:18.668Z"
   },
   {
    "duration": 8,
    "start_time": "2022-12-18T04:54:04.145Z"
   },
   {
    "duration": 8,
    "start_time": "2022-12-18T04:54:13.720Z"
   },
   {
    "duration": 8,
    "start_time": "2022-12-18T04:54:20.793Z"
   },
   {
    "duration": 3167,
    "start_time": "2022-12-18T04:57:00.957Z"
   },
   {
    "duration": 3213,
    "start_time": "2022-12-18T04:57:19.328Z"
   },
   {
    "duration": 3236,
    "start_time": "2022-12-18T05:05:18.037Z"
   },
   {
    "duration": 16,
    "start_time": "2022-12-18T05:05:46.150Z"
   },
   {
    "duration": 4,
    "start_time": "2022-12-18T05:06:04.910Z"
   },
   {
    "duration": 119,
    "start_time": "2022-12-18T05:06:06.499Z"
   },
   {
    "duration": 28,
    "start_time": "2022-12-18T05:06:18.414Z"
   },
   {
    "duration": 3412,
    "start_time": "2022-12-18T05:14:03.973Z"
   },
   {
    "duration": 3279,
    "start_time": "2022-12-18T05:14:28.320Z"
   },
   {
    "duration": 1169,
    "start_time": "2022-12-18T05:16:57.222Z"
   },
   {
    "duration": 3425,
    "start_time": "2022-12-18T05:17:04.835Z"
   },
   {
    "duration": 3514,
    "start_time": "2022-12-18T05:17:12.683Z"
   },
   {
    "duration": 3289,
    "start_time": "2022-12-18T05:17:42.308Z"
   },
   {
    "duration": 1153,
    "start_time": "2022-12-18T05:18:35.855Z"
   },
   {
    "duration": 3410,
    "start_time": "2022-12-18T05:18:48.654Z"
   },
   {
    "duration": 59,
    "start_time": "2022-12-18T05:19:02.541Z"
   },
   {
    "duration": 3369,
    "start_time": "2022-12-18T05:19:10.047Z"
   },
   {
    "duration": 3522,
    "start_time": "2022-12-18T05:19:45.854Z"
   },
   {
    "duration": 433,
    "start_time": "2022-12-18T05:20:36.695Z"
   },
   {
    "duration": 31,
    "start_time": "2022-12-18T05:23:13.273Z"
   },
   {
    "duration": 57,
    "start_time": "2022-12-18T05:23:43.931Z"
   },
   {
    "duration": 3496,
    "start_time": "2022-12-18T05:23:49.170Z"
   },
   {
    "duration": 14,
    "start_time": "2022-12-18T05:23:54.890Z"
   },
   {
    "duration": 785,
    "start_time": "2022-12-18T05:24:08.654Z"
   },
   {
    "duration": 16,
    "start_time": "2022-12-18T05:24:50.995Z"
   },
   {
    "duration": 1251,
    "start_time": "2022-12-18T05:25:41.292Z"
   },
   {
    "duration": 3494,
    "start_time": "2022-12-18T05:26:15.374Z"
   },
   {
    "duration": 158,
    "start_time": "2022-12-18T05:26:22.388Z"
   },
   {
    "duration": 151,
    "start_time": "2022-12-18T05:26:38.491Z"
   },
   {
    "duration": 145,
    "start_time": "2022-12-18T05:27:16.374Z"
   },
   {
    "duration": 15,
    "start_time": "2022-12-18T05:27:35.254Z"
   },
   {
    "duration": 184,
    "start_time": "2022-12-18T05:27:37.681Z"
   },
   {
    "duration": 199,
    "start_time": "2022-12-18T05:27:43.263Z"
   },
   {
    "duration": 132,
    "start_time": "2022-12-18T05:27:51.646Z"
   },
   {
    "duration": 178,
    "start_time": "2022-12-18T05:35:44.375Z"
   },
   {
    "duration": 169,
    "start_time": "2022-12-18T05:35:49.304Z"
   },
   {
    "duration": 166,
    "start_time": "2022-12-18T05:35:53.464Z"
   },
   {
    "duration": 160,
    "start_time": "2022-12-18T05:36:01.367Z"
   },
   {
    "duration": 171,
    "start_time": "2022-12-18T05:36:10.680Z"
   },
   {
    "duration": 174,
    "start_time": "2022-12-18T05:37:29.162Z"
   },
   {
    "duration": 167,
    "start_time": "2022-12-18T05:37:37.731Z"
   },
   {
    "duration": 129,
    "start_time": "2022-12-18T05:37:45.732Z"
   },
   {
    "duration": 207,
    "start_time": "2022-12-18T05:37:58.059Z"
   },
   {
    "duration": 228,
    "start_time": "2022-12-18T05:38:00.593Z"
   },
   {
    "duration": 168,
    "start_time": "2022-12-18T05:38:03.723Z"
   },
   {
    "duration": 106,
    "start_time": "2022-12-18T05:38:09.353Z"
   },
   {
    "duration": 131,
    "start_time": "2022-12-18T05:38:13.860Z"
   },
   {
    "duration": 183,
    "start_time": "2022-12-18T05:38:17.060Z"
   },
   {
    "duration": 152,
    "start_time": "2022-12-18T05:38:26.209Z"
   },
   {
    "duration": 172,
    "start_time": "2022-12-18T05:38:28.277Z"
   },
   {
    "duration": 199,
    "start_time": "2022-12-18T05:39:10.031Z"
   },
   {
    "duration": 147,
    "start_time": "2022-12-18T05:39:15.164Z"
   },
   {
    "duration": 181,
    "start_time": "2022-12-18T05:39:22.051Z"
   },
   {
    "duration": 148,
    "start_time": "2022-12-18T05:39:26.588Z"
   },
   {
    "duration": 146,
    "start_time": "2022-12-18T05:39:38.132Z"
   },
   {
    "duration": 149,
    "start_time": "2022-12-18T05:39:43.748Z"
   },
   {
    "duration": 263,
    "start_time": "2022-12-18T05:39:49.892Z"
   },
   {
    "duration": 136,
    "start_time": "2022-12-18T05:40:24.452Z"
   },
   {
    "duration": 31,
    "start_time": "2022-12-18T05:40:52.056Z"
   },
   {
    "duration": 1305,
    "start_time": "2022-12-18T05:40:57.132Z"
   },
   {
    "duration": 422,
    "start_time": "2022-12-18T05:40:58.439Z"
   },
   {
    "duration": 36,
    "start_time": "2022-12-18T05:40:58.862Z"
   },
   {
    "duration": 2,
    "start_time": "2022-12-18T05:40:58.901Z"
   },
   {
    "duration": 32,
    "start_time": "2022-12-18T05:40:58.904Z"
   },
   {
    "duration": 110,
    "start_time": "2022-12-18T05:40:58.938Z"
   },
   {
    "duration": 33,
    "start_time": "2022-12-18T05:40:59.050Z"
   },
   {
    "duration": 3,
    "start_time": "2022-12-18T05:40:59.085Z"
   },
   {
    "duration": 36,
    "start_time": "2022-12-18T05:40:59.089Z"
   },
   {
    "duration": 9,
    "start_time": "2022-12-18T05:40:59.131Z"
   },
   {
    "duration": 33,
    "start_time": "2022-12-18T05:40:59.142Z"
   },
   {
    "duration": 4,
    "start_time": "2022-12-18T05:40:59.177Z"
   },
   {
    "duration": 150,
    "start_time": "2022-12-18T05:40:59.183Z"
   },
   {
    "duration": 78,
    "start_time": "2022-12-18T05:40:59.339Z"
   },
   {
    "duration": 122,
    "start_time": "2022-12-18T05:40:59.421Z"
   },
   {
    "duration": 4,
    "start_time": "2022-12-18T05:40:59.545Z"
   },
   {
    "duration": 3344,
    "start_time": "2022-12-18T05:40:59.551Z"
   },
   {
    "duration": 3288,
    "start_time": "2022-12-18T05:41:02.897Z"
   },
   {
    "duration": 203,
    "start_time": "2022-12-18T05:41:06.187Z"
   },
   {
    "duration": 10,
    "start_time": "2022-12-18T05:41:06.392Z"
   },
   {
    "duration": 136,
    "start_time": "2022-12-18T05:42:37.303Z"
   },
   {
    "duration": 137,
    "start_time": "2022-12-18T05:42:44.712Z"
   },
   {
    "duration": 1821,
    "start_time": "2022-12-18T05:42:55.951Z"
   },
   {
    "duration": 141,
    "start_time": "2022-12-18T05:43:11.289Z"
   },
   {
    "duration": 10194,
    "start_time": "2022-12-18T05:43:14.463Z"
   },
   {
    "duration": 140,
    "start_time": "2022-12-18T05:43:50.472Z"
   },
   {
    "duration": 157,
    "start_time": "2022-12-18T05:44:25.283Z"
   },
   {
    "duration": 3476,
    "start_time": "2022-12-18T05:46:08.435Z"
   },
   {
    "duration": 57,
    "start_time": "2022-12-18T07:12:29.165Z"
   },
   {
    "duration": 1506,
    "start_time": "2022-12-18T07:12:33.998Z"
   },
   {
    "duration": 639,
    "start_time": "2022-12-18T07:12:35.506Z"
   },
   {
    "duration": 37,
    "start_time": "2022-12-18T07:12:36.147Z"
   },
   {
    "duration": 2,
    "start_time": "2022-12-18T07:12:36.187Z"
   },
   {
    "duration": 23,
    "start_time": "2022-12-18T07:12:36.192Z"
   },
   {
    "duration": 106,
    "start_time": "2022-12-18T07:12:36.217Z"
   },
   {
    "duration": 46,
    "start_time": "2022-12-18T07:12:36.325Z"
   },
   {
    "duration": 4,
    "start_time": "2022-12-18T07:12:36.372Z"
   },
   {
    "duration": 36,
    "start_time": "2022-12-18T07:12:36.378Z"
   },
   {
    "duration": 6,
    "start_time": "2022-12-18T07:12:36.417Z"
   },
   {
    "duration": 41,
    "start_time": "2022-12-18T07:12:36.426Z"
   },
   {
    "duration": 6,
    "start_time": "2022-12-18T07:12:36.469Z"
   },
   {
    "duration": 148,
    "start_time": "2022-12-18T07:12:36.477Z"
   },
   {
    "duration": 89,
    "start_time": "2022-12-18T07:12:36.626Z"
   },
   {
    "duration": 104,
    "start_time": "2022-12-18T07:12:36.717Z"
   },
   {
    "duration": 3,
    "start_time": "2022-12-18T07:12:36.823Z"
   },
   {
    "duration": 3591,
    "start_time": "2022-12-18T07:12:36.828Z"
   },
   {
    "duration": 109,
    "start_time": "2022-12-18T07:12:40.420Z"
   },
   {
    "duration": 0,
    "start_time": "2022-12-18T07:12:40.530Z"
   },
   {
    "duration": 0,
    "start_time": "2022-12-18T07:12:40.532Z"
   },
   {
    "duration": 4,
    "start_time": "2022-12-18T07:14:49.221Z"
   },
   {
    "duration": 9,
    "start_time": "2022-12-18T07:15:16.791Z"
   },
   {
    "duration": 1389,
    "start_time": "2022-12-18T07:16:08.912Z"
   },
   {
    "duration": 356,
    "start_time": "2022-12-18T07:16:10.303Z"
   },
   {
    "duration": 34,
    "start_time": "2022-12-18T07:16:10.661Z"
   },
   {
    "duration": 3,
    "start_time": "2022-12-18T07:16:10.697Z"
   },
   {
    "duration": 16,
    "start_time": "2022-12-18T07:16:10.711Z"
   },
   {
    "duration": 107,
    "start_time": "2022-12-18T07:16:10.729Z"
   },
   {
    "duration": 30,
    "start_time": "2022-12-18T07:16:10.837Z"
   },
   {
    "duration": 3,
    "start_time": "2022-12-18T07:16:10.869Z"
   },
   {
    "duration": 11,
    "start_time": "2022-12-18T07:16:10.873Z"
   },
   {
    "duration": 6,
    "start_time": "2022-12-18T07:16:10.886Z"
   },
   {
    "duration": 46,
    "start_time": "2022-12-18T07:16:10.894Z"
   },
   {
    "duration": 4,
    "start_time": "2022-12-18T07:16:10.942Z"
   },
   {
    "duration": 171,
    "start_time": "2022-12-18T07:16:10.947Z"
   },
   {
    "duration": 92,
    "start_time": "2022-12-18T07:16:11.120Z"
   },
   {
    "duration": 115,
    "start_time": "2022-12-18T07:16:11.214Z"
   },
   {
    "duration": 3,
    "start_time": "2022-12-18T07:16:11.331Z"
   },
   {
    "duration": 3465,
    "start_time": "2022-12-18T07:16:11.336Z"
   },
   {
    "duration": 3619,
    "start_time": "2022-12-18T07:16:14.806Z"
   },
   {
    "duration": 161,
    "start_time": "2022-12-18T07:16:18.427Z"
   },
   {
    "duration": 9,
    "start_time": "2022-12-18T07:16:18.589Z"
   },
   {
    "duration": 3626,
    "start_time": "2022-12-18T07:17:25.651Z"
   },
   {
    "duration": 185,
    "start_time": "2022-12-18T07:17:29.279Z"
   },
   {
    "duration": 3616,
    "start_time": "2022-12-18T07:18:48.817Z"
   },
   {
    "duration": 153,
    "start_time": "2022-12-18T07:18:52.434Z"
   },
   {
    "duration": 304,
    "start_time": "2022-12-18T07:20:47.140Z"
   },
   {
    "duration": 64,
    "start_time": "2022-12-18T07:21:00.302Z"
   },
   {
    "duration": 193,
    "start_time": "2022-12-18T07:21:04.507Z"
   },
   {
    "duration": 275,
    "start_time": "2022-12-18T07:21:31.365Z"
   },
   {
    "duration": 4,
    "start_time": "2022-12-18T07:22:24.365Z"
   },
   {
    "duration": 222,
    "start_time": "2022-12-18T07:22:44.130Z"
   },
   {
    "duration": 182,
    "start_time": "2022-12-18T07:23:00.678Z"
   },
   {
    "duration": 162,
    "start_time": "2022-12-18T07:23:09.566Z"
   },
   {
    "duration": 173,
    "start_time": "2022-12-18T07:23:38.439Z"
   },
   {
    "duration": 6,
    "start_time": "2022-12-18T07:23:46.534Z"
   },
   {
    "duration": 199,
    "start_time": "2022-12-18T07:23:51.807Z"
   },
   {
    "duration": 211,
    "start_time": "2022-12-18T07:24:03.719Z"
   },
   {
    "duration": 185,
    "start_time": "2022-12-18T07:25:12.952Z"
   },
   {
    "duration": 192,
    "start_time": "2022-12-18T07:25:22.473Z"
   },
   {
    "duration": 185,
    "start_time": "2022-12-18T07:25:27.681Z"
   },
   {
    "duration": 198,
    "start_time": "2022-12-18T07:25:38.594Z"
   },
   {
    "duration": 259,
    "start_time": "2022-12-18T07:26:28.072Z"
   },
   {
    "duration": 68,
    "start_time": "2022-12-18T07:27:36.541Z"
   },
   {
    "duration": 147,
    "start_time": "2022-12-18T07:27:40.482Z"
   },
   {
    "duration": 183,
    "start_time": "2022-12-18T07:28:06.068Z"
   },
   {
    "duration": 173,
    "start_time": "2022-12-18T07:28:54.932Z"
   },
   {
    "duration": 51,
    "start_time": "2022-12-18T07:29:08.373Z"
   },
   {
    "duration": 176,
    "start_time": "2022-12-18T07:29:10.547Z"
   },
   {
    "duration": 208,
    "start_time": "2022-12-18T07:29:14.662Z"
   },
   {
    "duration": 192,
    "start_time": "2022-12-18T07:29:17.637Z"
   },
   {
    "duration": 192,
    "start_time": "2022-12-18T07:29:21.045Z"
   },
   {
    "duration": 173,
    "start_time": "2022-12-18T07:29:44.437Z"
   },
   {
    "duration": 206,
    "start_time": "2022-12-18T07:29:48.117Z"
   },
   {
    "duration": 203,
    "start_time": "2022-12-18T07:29:55.941Z"
   },
   {
    "duration": 3747,
    "start_time": "2022-12-18T07:30:37.881Z"
   },
   {
    "duration": 1418,
    "start_time": "2022-12-18T07:51:59.189Z"
   },
   {
    "duration": 413,
    "start_time": "2022-12-18T07:52:00.610Z"
   },
   {
    "duration": 39,
    "start_time": "2022-12-18T07:52:01.025Z"
   },
   {
    "duration": 37,
    "start_time": "2022-12-18T07:52:01.067Z"
   },
   {
    "duration": 126,
    "start_time": "2022-12-18T07:52:01.106Z"
   },
   {
    "duration": 241,
    "start_time": "2022-12-18T07:52:01.234Z"
   },
   {
    "duration": 76,
    "start_time": "2022-12-18T07:52:01.477Z"
   },
   {
    "duration": 61,
    "start_time": "2022-12-18T07:52:01.554Z"
   },
   {
    "duration": 50,
    "start_time": "2022-12-18T07:52:01.617Z"
   },
   {
    "duration": 49,
    "start_time": "2022-12-18T07:52:01.670Z"
   },
   {
    "duration": 94,
    "start_time": "2022-12-18T07:52:01.721Z"
   },
   {
    "duration": 33,
    "start_time": "2022-12-18T07:52:01.817Z"
   },
   {
    "duration": 264,
    "start_time": "2022-12-18T07:52:01.851Z"
   },
   {
    "duration": 102,
    "start_time": "2022-12-18T07:52:02.119Z"
   },
   {
    "duration": 101,
    "start_time": "2022-12-18T07:52:02.223Z"
   },
   {
    "duration": 12,
    "start_time": "2022-12-18T07:52:02.326Z"
   },
   {
    "duration": 3648,
    "start_time": "2022-12-18T07:52:02.340Z"
   },
   {
    "duration": 218,
    "start_time": "2022-12-18T07:52:05.990Z"
   },
   {
    "duration": 10,
    "start_time": "2022-12-18T07:52:06.212Z"
   }
  ],
  "kernelspec": {
   "display_name": "Python 3",
   "language": "python",
   "name": "python3"
  },
  "language_info": {
   "codemirror_mode": {
    "name": "ipython",
    "version": 3
   },
   "file_extension": ".py",
   "mimetype": "text/x-python",
   "name": "python",
   "nbconvert_exporter": "python",
   "pygments_lexer": "ipython3",
   "version": "3.8.8"
  },
  "toc": {
   "base_numbering": 1,
   "nav_menu": {},
   "number_sections": true,
   "sideBar": true,
   "skip_h1_title": true,
   "title_cell": "Table of Contents",
   "title_sidebar": "Contents",
   "toc_cell": false,
   "toc_position": {},
   "toc_section_display": true,
   "toc_window_display": false
  }
 },
 "nbformat": 4,
 "nbformat_minor": 2
}
